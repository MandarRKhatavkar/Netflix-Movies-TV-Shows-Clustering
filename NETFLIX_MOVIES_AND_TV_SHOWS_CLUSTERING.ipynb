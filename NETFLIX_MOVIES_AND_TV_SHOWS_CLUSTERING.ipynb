{
  "nbformat": 4,
  "nbformat_minor": 0,
  "metadata": {
    "colab": {
      "provenance": [],
      "include_colab_link": true
    },
    "kernelspec": {
      "name": "python3",
      "display_name": "Python 3"
    },
    "language_info": {
      "name": "python"
    }
  },
  "cells": [
    {
      "cell_type": "markdown",
      "metadata": {
        "id": "view-in-github",
        "colab_type": "text"
      },
      "source": [
        "<a href=\"https://colab.research.google.com/github/MandarRKhatavkar/Netflix-Movies-TV-Shows-Clustering/blob/main/NETFLIX_MOVIES_AND_TV_SHOWS_CLUSTERING.ipynb\" target=\"_parent\"><img src=\"https://colab.research.google.com/assets/colab-badge.svg\" alt=\"Open In Colab\"/></a>"
      ]
    },
    {
      "cell_type": "markdown",
      "metadata": {
        "id": "LGcl5Bv9ed6u"
      },
      "source": [
        "# **Problem Statement**"
      ]
    },
    {
      "cell_type": "markdown",
      "metadata": {
        "id": "8M5kyFaVjzXk"
      },
      "source": [
        "This dataset consists of tv shows and movies available on Netflix as of 2019. The dataset is collected from Flixable which is a third-party Netflix search engine.\n",
        "\n",
        "In 2018, they released an interesting report which shows that the number of TV shows on Netflix has nearly tripled since 2010. The streaming service’s number of movies has decreased by more than 2,000 titles since 2010, while its number of TV shows has nearly tripled. It will be interesting to explore what all other insights can be obtained from the same dataset.\n",
        "\n",
        "Integrating this dataset with other external datasets such as IMDB ratings, rotten tomatoes can also provide many interesting findings."
      ]
    },
    {
      "cell_type": "markdown",
      "metadata": {
        "id": "tLx5cJO8hzb1"
      },
      "source": [
        "## <b>In this  project, you are required to do </b>\n",
        "1. Exploratory Data Analysis \n",
        "\n",
        "2. Understanding what type content is available in different countries\n",
        "\n",
        "3. Is Netflix has increasingly focusing on TV rather than movies in recent years.\n",
        "4. Clustering similar content by matching text-based features\n",
        "\n"
      ]
    },
    {
      "cell_type": "markdown",
      "metadata": {
        "id": "AzGDqdC4fZ-b"
      },
      "source": [
        "# **Attribute Information**"
      ]
    },
    {
      "cell_type": "markdown",
      "metadata": {
        "id": "jhfLYargscGV"
      },
      "source": [
        "1. show_id : Unique ID for every Movie / Tv Show\n",
        "\n",
        "2. type : Identifier - A Movie or TV Show\n",
        "\n",
        "3. title : Title of the Movie / Tv Show\n",
        "\n",
        "4. director : Director of the Movie\n",
        "\n",
        "5. cast : Actors involved in the movie / show\n",
        "\n",
        "6. country : Country where the movie / show was produced\n",
        "\n",
        "7. date_added : Date it was added on Netflix\n",
        "\n",
        "8. release_year : Actual Releaseyear of the movie / show\n",
        "\n",
        "9. rating : TV Rating of the movie / show\n",
        "\n",
        "10. duration : Total Duration - in minutes or number of seasons\n",
        "\n",
        "11. listed_in : Genere\n",
        "\n",
        "12. description: The Summary description"
      ]
    },
    {
      "cell_type": "markdown",
      "metadata": {
        "id": "EBPlP3vOD-SF"
      },
      "source": [
        "# Import all required libraries for EDA "
      ]
    },
    {
      "cell_type": "code",
      "execution_count": 78,
      "metadata": {
        "id": "jDfNeNzn1HVW"
      },
      "outputs": [],
      "source": [
        "# Importing basic libraries\n",
        "import pandas as pd\n",
        "import numpy as np\n",
        "\n",
        "# Importing libraries for visualization\n",
        "import matplotlib.pyplot as plt\n",
        "%matplotlib inline\n",
        "import seaborn as sns\n",
        "\n",
        "import warnings\n",
        "warnings.filterwarnings(action='ignore')"
      ]
    },
    {
      "cell_type": "markdown",
      "metadata": {
        "id": "qGZADu8bEZnU"
      },
      "source": [
        "## Mounting drive and Loading Dataset"
      ]
    },
    {
      "cell_type": "code",
      "execution_count": 79,
      "metadata": {
        "colab": {
          "base_uri": "https://localhost:8080/"
        },
        "id": "eTgUFng05q0D",
        "outputId": "1af90ffe-cc2d-48b7-eb4b-4247fcc6ec6b"
      },
      "outputs": [
        {
          "output_type": "stream",
          "name": "stdout",
          "text": [
            "Drive already mounted at /content/drive; to attempt to forcibly remount, call drive.mount(\"/content/drive\", force_remount=True).\n"
          ]
        }
      ],
      "source": [
        "from google.colab import drive\n",
        "drive.mount('/content/drive')"
      ]
    },
    {
      "cell_type": "code",
      "source": [
        "df=pd.read_csv('/content/drive/MyDrive/Alma Better Projects/ML Unsupervised Project/NETFLIX MOVIES AND TV SHOWS CLUSTERING.csv')"
      ],
      "metadata": {
        "id": "mdcqA-JbL3lZ"
      },
      "execution_count": 80,
      "outputs": []
    },
    {
      "cell_type": "markdown",
      "metadata": {
        "id": "MhXZ_YRiEn4p"
      },
      "source": [
        "## Looking and understanding about all the aspects of dataset."
      ]
    },
    {
      "cell_type": "code",
      "source": [
        "#first look of dataset\n",
        "df.head()"
      ],
      "metadata": {
        "colab": {
          "base_uri": "https://localhost:8080/",
          "height": 493
        },
        "id": "Jmuc2GNTMWyz",
        "outputId": "6595aefa-37db-437c-f83d-6440f95e89b6"
      },
      "execution_count": 81,
      "outputs": [
        {
          "output_type": "execute_result",
          "data": {
            "text/plain": [
              "  show_id     type  title           director  \\\n",
              "0      s1  TV Show     3%                NaN   \n",
              "1      s2    Movie   7:19  Jorge Michel Grau   \n",
              "2      s3    Movie  23:59       Gilbert Chan   \n",
              "3      s4    Movie      9        Shane Acker   \n",
              "4      s5    Movie     21     Robert Luketic   \n",
              "\n",
              "                                                cast        country  \\\n",
              "0  João Miguel, Bianca Comparato, Michel Gomes, R...         Brazil   \n",
              "1  Demián Bichir, Héctor Bonilla, Oscar Serrano, ...         Mexico   \n",
              "2  Tedd Chan, Stella Chung, Henley Hii, Lawrence ...      Singapore   \n",
              "3  Elijah Wood, John C. Reilly, Jennifer Connelly...  United States   \n",
              "4  Jim Sturgess, Kevin Spacey, Kate Bosworth, Aar...  United States   \n",
              "\n",
              "          date_added  release_year rating   duration  \\\n",
              "0    August 14, 2020          2020  TV-MA  4 Seasons   \n",
              "1  December 23, 2016          2016  TV-MA     93 min   \n",
              "2  December 20, 2018          2011      R     78 min   \n",
              "3  November 16, 2017          2009  PG-13     80 min   \n",
              "4    January 1, 2020          2008  PG-13    123 min   \n",
              "\n",
              "                                           listed_in  \\\n",
              "0  International TV Shows, TV Dramas, TV Sci-Fi &...   \n",
              "1                       Dramas, International Movies   \n",
              "2                Horror Movies, International Movies   \n",
              "3  Action & Adventure, Independent Movies, Sci-Fi...   \n",
              "4                                             Dramas   \n",
              "\n",
              "                                         description  \n",
              "0  In a future where the elite inhabit an island ...  \n",
              "1  After a devastating earthquake hits Mexico Cit...  \n",
              "2  When an army recruit is found dead, his fellow...  \n",
              "3  In a postapocalyptic world, rag-doll robots hi...  \n",
              "4  A brilliant group of students become card-coun...  "
            ],
            "text/html": [
              "\n",
              "  <div id=\"df-c1ee445c-8309-44a2-a5d7-28c423e28563\">\n",
              "    <div class=\"colab-df-container\">\n",
              "      <div>\n",
              "<style scoped>\n",
              "    .dataframe tbody tr th:only-of-type {\n",
              "        vertical-align: middle;\n",
              "    }\n",
              "\n",
              "    .dataframe tbody tr th {\n",
              "        vertical-align: top;\n",
              "    }\n",
              "\n",
              "    .dataframe thead th {\n",
              "        text-align: right;\n",
              "    }\n",
              "</style>\n",
              "<table border=\"1\" class=\"dataframe\">\n",
              "  <thead>\n",
              "    <tr style=\"text-align: right;\">\n",
              "      <th></th>\n",
              "      <th>show_id</th>\n",
              "      <th>type</th>\n",
              "      <th>title</th>\n",
              "      <th>director</th>\n",
              "      <th>cast</th>\n",
              "      <th>country</th>\n",
              "      <th>date_added</th>\n",
              "      <th>release_year</th>\n",
              "      <th>rating</th>\n",
              "      <th>duration</th>\n",
              "      <th>listed_in</th>\n",
              "      <th>description</th>\n",
              "    </tr>\n",
              "  </thead>\n",
              "  <tbody>\n",
              "    <tr>\n",
              "      <th>0</th>\n",
              "      <td>s1</td>\n",
              "      <td>TV Show</td>\n",
              "      <td>3%</td>\n",
              "      <td>NaN</td>\n",
              "      <td>João Miguel, Bianca Comparato, Michel Gomes, R...</td>\n",
              "      <td>Brazil</td>\n",
              "      <td>August 14, 2020</td>\n",
              "      <td>2020</td>\n",
              "      <td>TV-MA</td>\n",
              "      <td>4 Seasons</td>\n",
              "      <td>International TV Shows, TV Dramas, TV Sci-Fi &amp;...</td>\n",
              "      <td>In a future where the elite inhabit an island ...</td>\n",
              "    </tr>\n",
              "    <tr>\n",
              "      <th>1</th>\n",
              "      <td>s2</td>\n",
              "      <td>Movie</td>\n",
              "      <td>7:19</td>\n",
              "      <td>Jorge Michel Grau</td>\n",
              "      <td>Demián Bichir, Héctor Bonilla, Oscar Serrano, ...</td>\n",
              "      <td>Mexico</td>\n",
              "      <td>December 23, 2016</td>\n",
              "      <td>2016</td>\n",
              "      <td>TV-MA</td>\n",
              "      <td>93 min</td>\n",
              "      <td>Dramas, International Movies</td>\n",
              "      <td>After a devastating earthquake hits Mexico Cit...</td>\n",
              "    </tr>\n",
              "    <tr>\n",
              "      <th>2</th>\n",
              "      <td>s3</td>\n",
              "      <td>Movie</td>\n",
              "      <td>23:59</td>\n",
              "      <td>Gilbert Chan</td>\n",
              "      <td>Tedd Chan, Stella Chung, Henley Hii, Lawrence ...</td>\n",
              "      <td>Singapore</td>\n",
              "      <td>December 20, 2018</td>\n",
              "      <td>2011</td>\n",
              "      <td>R</td>\n",
              "      <td>78 min</td>\n",
              "      <td>Horror Movies, International Movies</td>\n",
              "      <td>When an army recruit is found dead, his fellow...</td>\n",
              "    </tr>\n",
              "    <tr>\n",
              "      <th>3</th>\n",
              "      <td>s4</td>\n",
              "      <td>Movie</td>\n",
              "      <td>9</td>\n",
              "      <td>Shane Acker</td>\n",
              "      <td>Elijah Wood, John C. Reilly, Jennifer Connelly...</td>\n",
              "      <td>United States</td>\n",
              "      <td>November 16, 2017</td>\n",
              "      <td>2009</td>\n",
              "      <td>PG-13</td>\n",
              "      <td>80 min</td>\n",
              "      <td>Action &amp; Adventure, Independent Movies, Sci-Fi...</td>\n",
              "      <td>In a postapocalyptic world, rag-doll robots hi...</td>\n",
              "    </tr>\n",
              "    <tr>\n",
              "      <th>4</th>\n",
              "      <td>s5</td>\n",
              "      <td>Movie</td>\n",
              "      <td>21</td>\n",
              "      <td>Robert Luketic</td>\n",
              "      <td>Jim Sturgess, Kevin Spacey, Kate Bosworth, Aar...</td>\n",
              "      <td>United States</td>\n",
              "      <td>January 1, 2020</td>\n",
              "      <td>2008</td>\n",
              "      <td>PG-13</td>\n",
              "      <td>123 min</td>\n",
              "      <td>Dramas</td>\n",
              "      <td>A brilliant group of students become card-coun...</td>\n",
              "    </tr>\n",
              "  </tbody>\n",
              "</table>\n",
              "</div>\n",
              "      <button class=\"colab-df-convert\" onclick=\"convertToInteractive('df-c1ee445c-8309-44a2-a5d7-28c423e28563')\"\n",
              "              title=\"Convert this dataframe to an interactive table.\"\n",
              "              style=\"display:none;\">\n",
              "        \n",
              "  <svg xmlns=\"http://www.w3.org/2000/svg\" height=\"24px\"viewBox=\"0 0 24 24\"\n",
              "       width=\"24px\">\n",
              "    <path d=\"M0 0h24v24H0V0z\" fill=\"none\"/>\n",
              "    <path d=\"M18.56 5.44l.94 2.06.94-2.06 2.06-.94-2.06-.94-.94-2.06-.94 2.06-2.06.94zm-11 1L8.5 8.5l.94-2.06 2.06-.94-2.06-.94L8.5 2.5l-.94 2.06-2.06.94zm10 10l.94 2.06.94-2.06 2.06-.94-2.06-.94-.94-2.06-.94 2.06-2.06.94z\"/><path d=\"M17.41 7.96l-1.37-1.37c-.4-.4-.92-.59-1.43-.59-.52 0-1.04.2-1.43.59L10.3 9.45l-7.72 7.72c-.78.78-.78 2.05 0 2.83L4 21.41c.39.39.9.59 1.41.59.51 0 1.02-.2 1.41-.59l7.78-7.78 2.81-2.81c.8-.78.8-2.07 0-2.86zM5.41 20L4 18.59l7.72-7.72 1.47 1.35L5.41 20z\"/>\n",
              "  </svg>\n",
              "      </button>\n",
              "      \n",
              "  <style>\n",
              "    .colab-df-container {\n",
              "      display:flex;\n",
              "      flex-wrap:wrap;\n",
              "      gap: 12px;\n",
              "    }\n",
              "\n",
              "    .colab-df-convert {\n",
              "      background-color: #E8F0FE;\n",
              "      border: none;\n",
              "      border-radius: 50%;\n",
              "      cursor: pointer;\n",
              "      display: none;\n",
              "      fill: #1967D2;\n",
              "      height: 32px;\n",
              "      padding: 0 0 0 0;\n",
              "      width: 32px;\n",
              "    }\n",
              "\n",
              "    .colab-df-convert:hover {\n",
              "      background-color: #E2EBFA;\n",
              "      box-shadow: 0px 1px 2px rgba(60, 64, 67, 0.3), 0px 1px 3px 1px rgba(60, 64, 67, 0.15);\n",
              "      fill: #174EA6;\n",
              "    }\n",
              "\n",
              "    [theme=dark] .colab-df-convert {\n",
              "      background-color: #3B4455;\n",
              "      fill: #D2E3FC;\n",
              "    }\n",
              "\n",
              "    [theme=dark] .colab-df-convert:hover {\n",
              "      background-color: #434B5C;\n",
              "      box-shadow: 0px 1px 3px 1px rgba(0, 0, 0, 0.15);\n",
              "      filter: drop-shadow(0px 1px 2px rgba(0, 0, 0, 0.3));\n",
              "      fill: #FFFFFF;\n",
              "    }\n",
              "  </style>\n",
              "\n",
              "      <script>\n",
              "        const buttonEl =\n",
              "          document.querySelector('#df-c1ee445c-8309-44a2-a5d7-28c423e28563 button.colab-df-convert');\n",
              "        buttonEl.style.display =\n",
              "          google.colab.kernel.accessAllowed ? 'block' : 'none';\n",
              "\n",
              "        async function convertToInteractive(key) {\n",
              "          const element = document.querySelector('#df-c1ee445c-8309-44a2-a5d7-28c423e28563');\n",
              "          const dataTable =\n",
              "            await google.colab.kernel.invokeFunction('convertToInteractive',\n",
              "                                                     [key], {});\n",
              "          if (!dataTable) return;\n",
              "\n",
              "          const docLinkHtml = 'Like what you see? Visit the ' +\n",
              "            '<a target=\"_blank\" href=https://colab.research.google.com/notebooks/data_table.ipynb>data table notebook</a>'\n",
              "            + ' to learn more about interactive tables.';\n",
              "          element.innerHTML = '';\n",
              "          dataTable['output_type'] = 'display_data';\n",
              "          await google.colab.output.renderOutput(dataTable, element);\n",
              "          const docLink = document.createElement('div');\n",
              "          docLink.innerHTML = docLinkHtml;\n",
              "          element.appendChild(docLink);\n",
              "        }\n",
              "      </script>\n",
              "    </div>\n",
              "  </div>\n",
              "  "
            ]
          },
          "metadata": {},
          "execution_count": 81
        }
      ]
    },
    {
      "cell_type": "code",
      "source": [
        "#look for last rows\n",
        "df.tail()"
      ],
      "metadata": {
        "colab": {
          "base_uri": "https://localhost:8080/",
          "height": 615
        },
        "id": "z7yGK3ROMPpc",
        "outputId": "1bc8d2eb-f7b8-4eab-a555-a662d6a5b067"
      },
      "execution_count": 5,
      "outputs": [
        {
          "output_type": "execute_result",
          "data": {
            "text/plain": [
              "     show_id     type                                    title     director  \\\n",
              "7782   s7783    Movie                                     Zozo  Josef Fares   \n",
              "7783   s7784    Movie                                   Zubaan  Mozez Singh   \n",
              "7784   s7785    Movie                        Zulu Man in Japan          NaN   \n",
              "7785   s7786  TV Show                    Zumbo's Just Desserts          NaN   \n",
              "7786   s7787    Movie  ZZ TOP: THAT LITTLE OL' BAND FROM TEXAS     Sam Dunn   \n",
              "\n",
              "                                                   cast  \\\n",
              "7782  Imad Creidi, Antoinette Turk, Elias Gergi, Car...   \n",
              "7783  Vicky Kaushal, Sarah-Jane Dias, Raaghav Chanan...   \n",
              "7784                                            Nasty C   \n",
              "7785                         Adriano Zumbo, Rachel Khoo   \n",
              "7786                                                NaN   \n",
              "\n",
              "                                                country          date_added  \\\n",
              "7782  Sweden, Czech Republic, United Kingdom, Denmar...    October 19, 2020   \n",
              "7783                                              India       March 2, 2019   \n",
              "7784                                                NaN  September 25, 2020   \n",
              "7785                                          Australia    October 31, 2020   \n",
              "7786              United Kingdom, Canada, United States       March 1, 2020   \n",
              "\n",
              "      release_year rating  duration  \\\n",
              "7782          2005  TV-MA    99 min   \n",
              "7783          2015  TV-14   111 min   \n",
              "7784          2019  TV-MA    44 min   \n",
              "7785          2019  TV-PG  1 Season   \n",
              "7786          2019  TV-MA    90 min   \n",
              "\n",
              "                                              listed_in  \\\n",
              "7782                       Dramas, International Movies   \n",
              "7783     Dramas, International Movies, Music & Musicals   \n",
              "7784  Documentaries, International Movies, Music & M...   \n",
              "7785                 International TV Shows, Reality TV   \n",
              "7786                    Documentaries, Music & Musicals   \n",
              "\n",
              "                                            description  \n",
              "7782  When Lebanon's Civil War deprives Zozo of his ...  \n",
              "7783  A scrappy but poor boy worms his way into a ty...  \n",
              "7784  In this documentary, South African rapper Nast...  \n",
              "7785  Dessert wizard Adriano Zumbo looks for the nex...  \n",
              "7786  This documentary delves into the mystique behi...  "
            ],
            "text/html": [
              "\n",
              "  <div id=\"df-3005b20f-cba7-48b4-8776-fcfa483adf19\">\n",
              "    <div class=\"colab-df-container\">\n",
              "      <div>\n",
              "<style scoped>\n",
              "    .dataframe tbody tr th:only-of-type {\n",
              "        vertical-align: middle;\n",
              "    }\n",
              "\n",
              "    .dataframe tbody tr th {\n",
              "        vertical-align: top;\n",
              "    }\n",
              "\n",
              "    .dataframe thead th {\n",
              "        text-align: right;\n",
              "    }\n",
              "</style>\n",
              "<table border=\"1\" class=\"dataframe\">\n",
              "  <thead>\n",
              "    <tr style=\"text-align: right;\">\n",
              "      <th></th>\n",
              "      <th>show_id</th>\n",
              "      <th>type</th>\n",
              "      <th>title</th>\n",
              "      <th>director</th>\n",
              "      <th>cast</th>\n",
              "      <th>country</th>\n",
              "      <th>date_added</th>\n",
              "      <th>release_year</th>\n",
              "      <th>rating</th>\n",
              "      <th>duration</th>\n",
              "      <th>listed_in</th>\n",
              "      <th>description</th>\n",
              "    </tr>\n",
              "  </thead>\n",
              "  <tbody>\n",
              "    <tr>\n",
              "      <th>7782</th>\n",
              "      <td>s7783</td>\n",
              "      <td>Movie</td>\n",
              "      <td>Zozo</td>\n",
              "      <td>Josef Fares</td>\n",
              "      <td>Imad Creidi, Antoinette Turk, Elias Gergi, Car...</td>\n",
              "      <td>Sweden, Czech Republic, United Kingdom, Denmar...</td>\n",
              "      <td>October 19, 2020</td>\n",
              "      <td>2005</td>\n",
              "      <td>TV-MA</td>\n",
              "      <td>99 min</td>\n",
              "      <td>Dramas, International Movies</td>\n",
              "      <td>When Lebanon's Civil War deprives Zozo of his ...</td>\n",
              "    </tr>\n",
              "    <tr>\n",
              "      <th>7783</th>\n",
              "      <td>s7784</td>\n",
              "      <td>Movie</td>\n",
              "      <td>Zubaan</td>\n",
              "      <td>Mozez Singh</td>\n",
              "      <td>Vicky Kaushal, Sarah-Jane Dias, Raaghav Chanan...</td>\n",
              "      <td>India</td>\n",
              "      <td>March 2, 2019</td>\n",
              "      <td>2015</td>\n",
              "      <td>TV-14</td>\n",
              "      <td>111 min</td>\n",
              "      <td>Dramas, International Movies, Music &amp; Musicals</td>\n",
              "      <td>A scrappy but poor boy worms his way into a ty...</td>\n",
              "    </tr>\n",
              "    <tr>\n",
              "      <th>7784</th>\n",
              "      <td>s7785</td>\n",
              "      <td>Movie</td>\n",
              "      <td>Zulu Man in Japan</td>\n",
              "      <td>NaN</td>\n",
              "      <td>Nasty C</td>\n",
              "      <td>NaN</td>\n",
              "      <td>September 25, 2020</td>\n",
              "      <td>2019</td>\n",
              "      <td>TV-MA</td>\n",
              "      <td>44 min</td>\n",
              "      <td>Documentaries, International Movies, Music &amp; M...</td>\n",
              "      <td>In this documentary, South African rapper Nast...</td>\n",
              "    </tr>\n",
              "    <tr>\n",
              "      <th>7785</th>\n",
              "      <td>s7786</td>\n",
              "      <td>TV Show</td>\n",
              "      <td>Zumbo's Just Desserts</td>\n",
              "      <td>NaN</td>\n",
              "      <td>Adriano Zumbo, Rachel Khoo</td>\n",
              "      <td>Australia</td>\n",
              "      <td>October 31, 2020</td>\n",
              "      <td>2019</td>\n",
              "      <td>TV-PG</td>\n",
              "      <td>1 Season</td>\n",
              "      <td>International TV Shows, Reality TV</td>\n",
              "      <td>Dessert wizard Adriano Zumbo looks for the nex...</td>\n",
              "    </tr>\n",
              "    <tr>\n",
              "      <th>7786</th>\n",
              "      <td>s7787</td>\n",
              "      <td>Movie</td>\n",
              "      <td>ZZ TOP: THAT LITTLE OL' BAND FROM TEXAS</td>\n",
              "      <td>Sam Dunn</td>\n",
              "      <td>NaN</td>\n",
              "      <td>United Kingdom, Canada, United States</td>\n",
              "      <td>March 1, 2020</td>\n",
              "      <td>2019</td>\n",
              "      <td>TV-MA</td>\n",
              "      <td>90 min</td>\n",
              "      <td>Documentaries, Music &amp; Musicals</td>\n",
              "      <td>This documentary delves into the mystique behi...</td>\n",
              "    </tr>\n",
              "  </tbody>\n",
              "</table>\n",
              "</div>\n",
              "      <button class=\"colab-df-convert\" onclick=\"convertToInteractive('df-3005b20f-cba7-48b4-8776-fcfa483adf19')\"\n",
              "              title=\"Convert this dataframe to an interactive table.\"\n",
              "              style=\"display:none;\">\n",
              "        \n",
              "  <svg xmlns=\"http://www.w3.org/2000/svg\" height=\"24px\"viewBox=\"0 0 24 24\"\n",
              "       width=\"24px\">\n",
              "    <path d=\"M0 0h24v24H0V0z\" fill=\"none\"/>\n",
              "    <path d=\"M18.56 5.44l.94 2.06.94-2.06 2.06-.94-2.06-.94-.94-2.06-.94 2.06-2.06.94zm-11 1L8.5 8.5l.94-2.06 2.06-.94-2.06-.94L8.5 2.5l-.94 2.06-2.06.94zm10 10l.94 2.06.94-2.06 2.06-.94-2.06-.94-.94-2.06-.94 2.06-2.06.94z\"/><path d=\"M17.41 7.96l-1.37-1.37c-.4-.4-.92-.59-1.43-.59-.52 0-1.04.2-1.43.59L10.3 9.45l-7.72 7.72c-.78.78-.78 2.05 0 2.83L4 21.41c.39.39.9.59 1.41.59.51 0 1.02-.2 1.41-.59l7.78-7.78 2.81-2.81c.8-.78.8-2.07 0-2.86zM5.41 20L4 18.59l7.72-7.72 1.47 1.35L5.41 20z\"/>\n",
              "  </svg>\n",
              "      </button>\n",
              "      \n",
              "  <style>\n",
              "    .colab-df-container {\n",
              "      display:flex;\n",
              "      flex-wrap:wrap;\n",
              "      gap: 12px;\n",
              "    }\n",
              "\n",
              "    .colab-df-convert {\n",
              "      background-color: #E8F0FE;\n",
              "      border: none;\n",
              "      border-radius: 50%;\n",
              "      cursor: pointer;\n",
              "      display: none;\n",
              "      fill: #1967D2;\n",
              "      height: 32px;\n",
              "      padding: 0 0 0 0;\n",
              "      width: 32px;\n",
              "    }\n",
              "\n",
              "    .colab-df-convert:hover {\n",
              "      background-color: #E2EBFA;\n",
              "      box-shadow: 0px 1px 2px rgba(60, 64, 67, 0.3), 0px 1px 3px 1px rgba(60, 64, 67, 0.15);\n",
              "      fill: #174EA6;\n",
              "    }\n",
              "\n",
              "    [theme=dark] .colab-df-convert {\n",
              "      background-color: #3B4455;\n",
              "      fill: #D2E3FC;\n",
              "    }\n",
              "\n",
              "    [theme=dark] .colab-df-convert:hover {\n",
              "      background-color: #434B5C;\n",
              "      box-shadow: 0px 1px 3px 1px rgba(0, 0, 0, 0.15);\n",
              "      filter: drop-shadow(0px 1px 2px rgba(0, 0, 0, 0.3));\n",
              "      fill: #FFFFFF;\n",
              "    }\n",
              "  </style>\n",
              "\n",
              "      <script>\n",
              "        const buttonEl =\n",
              "          document.querySelector('#df-3005b20f-cba7-48b4-8776-fcfa483adf19 button.colab-df-convert');\n",
              "        buttonEl.style.display =\n",
              "          google.colab.kernel.accessAllowed ? 'block' : 'none';\n",
              "\n",
              "        async function convertToInteractive(key) {\n",
              "          const element = document.querySelector('#df-3005b20f-cba7-48b4-8776-fcfa483adf19');\n",
              "          const dataTable =\n",
              "            await google.colab.kernel.invokeFunction('convertToInteractive',\n",
              "                                                     [key], {});\n",
              "          if (!dataTable) return;\n",
              "\n",
              "          const docLinkHtml = 'Like what you see? Visit the ' +\n",
              "            '<a target=\"_blank\" href=https://colab.research.google.com/notebooks/data_table.ipynb>data table notebook</a>'\n",
              "            + ' to learn more about interactive tables.';\n",
              "          element.innerHTML = '';\n",
              "          dataTable['output_type'] = 'display_data';\n",
              "          await google.colab.output.renderOutput(dataTable, element);\n",
              "          const docLink = document.createElement('div');\n",
              "          docLink.innerHTML = docLinkHtml;\n",
              "          element.appendChild(docLink);\n",
              "        }\n",
              "      </script>\n",
              "    </div>\n",
              "  </div>\n",
              "  "
            ]
          },
          "metadata": {},
          "execution_count": 5
        }
      ]
    },
    {
      "cell_type": "code",
      "source": [
        "df.shape"
      ],
      "metadata": {
        "colab": {
          "base_uri": "https://localhost:8080/"
        },
        "id": "dEoXUzNRMgYN",
        "outputId": "33935965-df9a-4040-e1ed-55ffd78ee10d"
      },
      "execution_count": 6,
      "outputs": [
        {
          "output_type": "execute_result",
          "data": {
            "text/plain": [
              "(7787, 12)"
            ]
          },
          "metadata": {},
          "execution_count": 6
        }
      ]
    },
    {
      "cell_type": "markdown",
      "metadata": {
        "id": "ut1ycdK0KHH1"
      },
      "source": [
        "* Dataset have 7787 rows and 12 features."
      ]
    },
    {
      "cell_type": "code",
      "source": [
        "len(df[df.duplicated()])"
      ],
      "metadata": {
        "colab": {
          "base_uri": "https://localhost:8080/"
        },
        "id": "zNSIWUk-M5QS",
        "outputId": "0d5a61ef-9e7a-4046-eb0b-a56775894b44"
      },
      "execution_count": 7,
      "outputs": [
        {
          "output_type": "execute_result",
          "data": {
            "text/plain": [
              "0"
            ]
          },
          "metadata": {},
          "execution_count": 7
        }
      ]
    },
    {
      "cell_type": "markdown",
      "metadata": {
        "id": "JxxoEEjjFc1P"
      },
      "source": [
        "* Do not have any duplicates in dataset."
      ]
    },
    {
      "cell_type": "markdown",
      "metadata": {
        "id": "n87-mIN8F16B"
      },
      "source": [
        "## Looking for null values in dataset"
      ]
    },
    {
      "cell_type": "code",
      "source": [
        "df.isnull().sum()"
      ],
      "metadata": {
        "colab": {
          "base_uri": "https://localhost:8080/"
        },
        "id": "DdPmzMIpM98l",
        "outputId": "2d3cf962-6977-44c5-a6b5-03627b51af56"
      },
      "execution_count": 8,
      "outputs": [
        {
          "output_type": "execute_result",
          "data": {
            "text/plain": [
              "show_id            0\n",
              "type               0\n",
              "title              0\n",
              "director        2389\n",
              "cast             718\n",
              "country          507\n",
              "date_added        10\n",
              "release_year       0\n",
              "rating             7\n",
              "duration           0\n",
              "listed_in          0\n",
              "description        0\n",
              "dtype: int64"
            ]
          },
          "metadata": {},
          "execution_count": 8
        }
      ]
    },
    {
      "cell_type": "markdown",
      "metadata": {
        "id": "MdtuNUPLF_68"
      },
      "source": [
        "* Several features in dataset have null values.\n",
        "* So to handel those null values in better way, lets look for percentage of null values in dataset."
      ]
    },
    {
      "cell_type": "code",
      "source": [
        "#percentage of all null values for each features\n",
        "df.isnull().sum()/df.shape[0]*100"
      ],
      "metadata": {
        "colab": {
          "base_uri": "https://localhost:8080/"
        },
        "id": "gUNg6zEwNEqN",
        "outputId": "02e0ab56-a694-44f7-e3c5-007e6f93ef83"
      },
      "execution_count": 9,
      "outputs": [
        {
          "output_type": "execute_result",
          "data": {
            "text/plain": [
              "show_id          0.000000\n",
              "type             0.000000\n",
              "title            0.000000\n",
              "director        30.679337\n",
              "cast             9.220496\n",
              "country          6.510851\n",
              "date_added       0.128419\n",
              "release_year     0.000000\n",
              "rating           0.089893\n",
              "duration         0.000000\n",
              "listed_in        0.000000\n",
              "description      0.000000\n",
              "dtype: float64"
            ]
          },
          "metadata": {},
          "execution_count": 9
        }
      ]
    },
    {
      "cell_type": "markdown",
      "metadata": {
        "id": "6htDh4hVHBw8"
      },
      "source": [
        "* Director feature have more than 30% of null values.\n",
        "  - So droping feature director.\n",
        "---\n",
        "* Country feature have 6.51% of null values.\n",
        "  - Filling null values by mode of feature.\n",
        "---\n",
        "* Cast feature have 9.22% of null values.\n",
        "  - Filling null values by 'missing', only for EDA purpose.\n",
        "---\n",
        "* Rating feature have 0.09% of null values.\n",
        "  - Filling null values by mode of feature.\n",
        "---\n",
        "* Date_added feature have 0.12% of null values.\n",
        "  - Droping rows corresponding to this null values."
      ]
    },
    {
      "cell_type": "code",
      "source": [
        "df.drop('director', axis=1, inplace=True)\n",
        "df['country'].fillna(df['country'].mode()[0], inplace=True)\n",
        "df['rating'].fillna(df['rating'].mode()[0], inplace=True)\n",
        "df.dropna(subset=['date_added'], inplace=True)\n",
        "df['cast'].fillna('missing', inplace=True)"
      ],
      "metadata": {
        "id": "BPcpSFIYNmne"
      },
      "execution_count": 10,
      "outputs": []
    },
    {
      "cell_type": "code",
      "source": [
        "#final check for null value\n",
        "df.isnull().sum()/df.shape[0]*100"
      ],
      "metadata": {
        "colab": {
          "base_uri": "https://localhost:8080/"
        },
        "id": "CljG_3nLONsr",
        "outputId": "2046d177-6fcf-4f84-b661-c3b6f87fb9b7"
      },
      "execution_count": 11,
      "outputs": [
        {
          "output_type": "execute_result",
          "data": {
            "text/plain": [
              "show_id         0.0\n",
              "type            0.0\n",
              "title           0.0\n",
              "cast            0.0\n",
              "country         0.0\n",
              "date_added      0.0\n",
              "release_year    0.0\n",
              "rating          0.0\n",
              "duration        0.0\n",
              "listed_in       0.0\n",
              "description     0.0\n",
              "dtype: float64"
            ]
          },
          "metadata": {},
          "execution_count": 11
        }
      ]
    },
    {
      "cell_type": "markdown",
      "metadata": {
        "id": "5okaZbrBKvSi"
      },
      "source": [
        "* All the null values handeled and dataset is ready for next challenges."
      ]
    },
    {
      "cell_type": "markdown",
      "metadata": {
        "id": "I078OWgJZq_j"
      },
      "source": [
        "## Looking for Data Types and Data Formats"
      ]
    },
    {
      "cell_type": "code",
      "source": [
        "# Information about all the features of dataset\n",
        "df.info()"
      ],
      "metadata": {
        "colab": {
          "base_uri": "https://localhost:8080/"
        },
        "id": "095YJM7UOVsy",
        "outputId": "f776580f-fc39-4e70-ea53-a809a2e7da0b"
      },
      "execution_count": 12,
      "outputs": [
        {
          "output_type": "stream",
          "name": "stdout",
          "text": [
            "<class 'pandas.core.frame.DataFrame'>\n",
            "Int64Index: 7777 entries, 0 to 7786\n",
            "Data columns (total 11 columns):\n",
            " #   Column        Non-Null Count  Dtype \n",
            "---  ------        --------------  ----- \n",
            " 0   show_id       7777 non-null   object\n",
            " 1   type          7777 non-null   object\n",
            " 2   title         7777 non-null   object\n",
            " 3   cast          7777 non-null   object\n",
            " 4   country       7777 non-null   object\n",
            " 5   date_added    7777 non-null   object\n",
            " 6   release_year  7777 non-null   int64 \n",
            " 7   rating        7777 non-null   object\n",
            " 8   duration      7777 non-null   object\n",
            " 9   listed_in     7777 non-null   object\n",
            " 10  description   7777 non-null   object\n",
            "dtypes: int64(1), object(10)\n",
            "memory usage: 729.1+ KB\n"
          ]
        }
      ]
    },
    {
      "cell_type": "markdown",
      "metadata": {
        "id": "zSNVpYVdaUty"
      },
      "source": [
        "* Date_added feature have object datatype.\n",
        "  - Converting to datetime datatype from object datatype."
      ]
    },
    {
      "cell_type": "code",
      "source": [
        "df['date_added'] = pd.to_datetime(df['date_added'])"
      ],
      "metadata": {
        "id": "HkXvb8LROoyT"
      },
      "execution_count": 13,
      "outputs": []
    },
    {
      "cell_type": "markdown",
      "metadata": {
        "id": "qRJYjtFlbOMX"
      },
      "source": [
        "* Duration feature have object datatype.\n",
        "  - Converting to int datatype from object datatype."
      ]
    },
    {
      "cell_type": "code",
      "source": [
        "df['duration']"
      ],
      "metadata": {
        "colab": {
          "base_uri": "https://localhost:8080/"
        },
        "id": "tPkA82_GOzXK",
        "outputId": "eedb9c1a-5335-4e61-9c2f-09fb9d60fa00"
      },
      "execution_count": 14,
      "outputs": [
        {
          "output_type": "execute_result",
          "data": {
            "text/plain": [
              "0       4 Seasons\n",
              "1          93 min\n",
              "2          78 min\n",
              "3          80 min\n",
              "4         123 min\n",
              "          ...    \n",
              "7782       99 min\n",
              "7783      111 min\n",
              "7784       44 min\n",
              "7785     1 Season\n",
              "7786       90 min\n",
              "Name: duration, Length: 7777, dtype: object"
            ]
          },
          "metadata": {},
          "execution_count": 14
        }
      ]
    },
    {
      "cell_type": "markdown",
      "metadata": {
        "id": "CK-N5CqNbUvI"
      },
      "source": [
        "* Duration are in combination of int values and string.\n",
        "* Removing string part so as to get int datatype."
      ]
    },
    {
      "cell_type": "code",
      "source": [
        "#spliting each values by space and selecting int part at zeroth index\n",
        "df['duration'] = df['duration'].apply(lambda x : x.split(\" \")[0])"
      ],
      "metadata": {
        "id": "K2r0rg4xO3J7"
      },
      "execution_count": 15,
      "outputs": []
    },
    {
      "cell_type": "code",
      "source": [
        "#check for updated duration values\n",
        "df['duration']"
      ],
      "metadata": {
        "colab": {
          "base_uri": "https://localhost:8080/"
        },
        "id": "4LOHpY_7O8VS",
        "outputId": "514b9b65-7105-4a87-cf5c-f2fd9032ca33"
      },
      "execution_count": 16,
      "outputs": [
        {
          "output_type": "execute_result",
          "data": {
            "text/plain": [
              "0         4\n",
              "1        93\n",
              "2        78\n",
              "3        80\n",
              "4       123\n",
              "       ... \n",
              "7782     99\n",
              "7783    111\n",
              "7784     44\n",
              "7785      1\n",
              "7786     90\n",
              "Name: duration, Length: 7777, dtype: object"
            ]
          },
          "metadata": {},
          "execution_count": 16
        }
      ]
    },
    {
      "cell_type": "code",
      "source": [
        "df.info()"
      ],
      "metadata": {
        "colab": {
          "base_uri": "https://localhost:8080/"
        },
        "id": "lCnO4npQO_XC",
        "outputId": "f193806d-9b22-4a96-98e4-7162fa5f6e05"
      },
      "execution_count": 17,
      "outputs": [
        {
          "output_type": "stream",
          "name": "stdout",
          "text": [
            "<class 'pandas.core.frame.DataFrame'>\n",
            "Int64Index: 7777 entries, 0 to 7786\n",
            "Data columns (total 11 columns):\n",
            " #   Column        Non-Null Count  Dtype         \n",
            "---  ------        --------------  -----         \n",
            " 0   show_id       7777 non-null   object        \n",
            " 1   type          7777 non-null   object        \n",
            " 2   title         7777 non-null   object        \n",
            " 3   cast          7777 non-null   object        \n",
            " 4   country       7777 non-null   object        \n",
            " 5   date_added    7777 non-null   datetime64[ns]\n",
            " 6   release_year  7777 non-null   int64         \n",
            " 7   rating        7777 non-null   object        \n",
            " 8   duration      7777 non-null   object        \n",
            " 9   listed_in     7777 non-null   object        \n",
            " 10  description   7777 non-null   object        \n",
            "dtypes: datetime64[ns](1), int64(1), object(9)\n",
            "memory usage: 729.1+ KB\n"
          ]
        }
      ]
    },
    {
      "cell_type": "markdown",
      "metadata": {
        "id": "MpEGuUZKiZfA"
      },
      "source": [
        "* Now all the features and thier values are in required datatypes and formats."
      ]
    },
    {
      "cell_type": "code",
      "source": [
        "# setting limits for display of rows and columns for better understanding\n",
        "pd.set_option('display.max_rows', 200)\n",
        "pd.set_option('display.max_columns', 200)"
      ],
      "metadata": {
        "id": "-HDa-6cqPCth"
      },
      "execution_count": 18,
      "outputs": []
    },
    {
      "cell_type": "markdown",
      "metadata": {
        "id": "jGYdqFp8ilZe"
      },
      "source": [
        "## Creating some new features from existing features to understand data better."
      ]
    },
    {
      "cell_type": "code",
      "source": [
        "# add new features from date feature\n",
        "df['year_added'] = df['date_added'].dt.year\n",
        "df['month_added'] = df['date_added'].dt.month\n",
        "df['day_added'] = df['date_added'].dt.day"
      ],
      "metadata": {
        "id": "hERrncf7PGMS"
      },
      "execution_count": 19,
      "outputs": []
    },
    {
      "cell_type": "code",
      "source": [
        "#Check for final dataset shape\n",
        "df.shape"
      ],
      "metadata": {
        "colab": {
          "base_uri": "https://localhost:8080/"
        },
        "id": "8YifSWVuPGpl",
        "outputId": "65ebe196-f2a6-4ee0-d2f9-77f3c72b0103"
      },
      "execution_count": 20,
      "outputs": [
        {
          "output_type": "execute_result",
          "data": {
            "text/plain": [
              "(7777, 14)"
            ]
          },
          "metadata": {},
          "execution_count": 20
        }
      ]
    },
    {
      "cell_type": "markdown",
      "metadata": {
        "id": "lIa5rB_FjekK"
      },
      "source": [
        "# EDA on Netflix Data in Netflix Style"
      ]
    },
    {
      "cell_type": "markdown",
      "metadata": {
        "id": "S36wED3Im8X_"
      },
      "source": [
        "## Movies Vs. TV Shows"
      ]
    },
    {
      "cell_type": "code",
      "source": [
        "# Pie chart showing percentage of toal movies and TV shows.\n",
        "# Choose this facecolor so as to give style of netflix\n",
        "fig, ax = plt.subplots(figsize=(5,5),facecolor=\"#363336\")\n",
        "ax.patch.set_facecolor('#363336')\n",
        "explode = (0, 0.1)\n",
        "ax.pie(df['type'].value_counts(), explode=explode, autopct='%.2f%%', labels= ['Movie', 'TV Show'],shadow=True,\n",
        "       startangle=90,textprops={'color':\"black\", 'fontsize': 20}, colors =['red','#F5E9F5'])"
      ],
      "metadata": {
        "colab": {
          "base_uri": "https://localhost:8080/",
          "height": 407
        },
        "id": "EYdVD6pOPS1v",
        "outputId": "d61cc435-61b3-4698-b8bf-6707d85aa594"
      },
      "execution_count": 21,
      "outputs": [
        {
          "output_type": "execute_result",
          "data": {
            "text/plain": [
              "([<matplotlib.patches.Wedge at 0x7f8b3469bf10>,\n",
              "  <matplotlib.patches.Wedge at 0x7f8b3462aa00>],\n",
              " [Text(-0.9070648963562528, -0.6222807033792873, 'Movie'),\n",
              "  Text(0.9895252779208632, 0.6788517690598137, 'TV Show')],\n",
              " [Text(-0.4947626707397742, -0.339425838206884, '69.14%'),\n",
              "  Text(0.5772230787871702, 0.39599686528489125, '30.86%')])"
            ]
          },
          "metadata": {},
          "execution_count": 21
        },
        {
          "output_type": "display_data",
          "data": {
            "text/plain": [
              "<Figure size 360x360 with 1 Axes>"
            ],
            "image/png": "[encoded data removed]"
          },
          "metadata": {}
        }
      ]
    },
    {
      "cell_type": "markdown",
      "metadata": {
        "id": "ajrticnDoo4R"
      },
      "source": [
        "* Movies uploaded on Netflix are more than twice the TV Shows uploaded.\n",
        "* This dose not implies that movies are more indulging that of TV Shows.\n",
        "* Beacuase TV shows may have several seasons which consits of number of episodes.\n",
        "* Duration of TV shows are much more that of movies."
      ]
    },
    {
      "cell_type": "markdown",
      "metadata": {
        "id": "kV4Bz9vzknWn"
      },
      "source": [
        "## Number of Movies and TV Shows added on netflix."
      ]
    },
    {
      "cell_type": "markdown",
      "metadata": {
        "id": "pYuJ5fFyk_mX"
      },
      "source": [
        "### On Year Basis"
      ]
    },
    {
      "cell_type": "code",
      "source": [
        "fig, ax = plt.subplots(figsize=(15,6),facecolor=\"#363336\")\n",
        "ax.patch.set_facecolor('#363336')\n",
        "sns.countplot(x='year_added', hue='type',lw=5, color='red', data=df, ax=ax)\n",
        "ax.tick_params(axis='x', colors='#F5E9F5',labelsize=15) \n",
        "ax.tick_params(axis='y', colors='#F5E9F5',labelsize=15)\n",
        "ax.set_xlabel(\"Years\", color='#F5E9F5', fontsize=20)\n",
        "ax.set_ylabel(\"Counts\",  color='#F5E9F5', fontsize=20)\n",
        "ax.set_title(\"Yearwise Movies & TV Shows\", color='#F5E9F5', fontsize=30)\n",
        "ax.spines['right'].set_visible(False)\n",
        "ax.spines['top'].set_visible(False)\n",
        "ax.spines['left'].set_visible(True)"
      ],
      "metadata": {
        "colab": {
          "base_uri": "https://localhost:8080/",
          "height": 431
        },
        "id": "XvfCEcrgQGJ2",
        "outputId": "79259d35-8322-4ea5-9c3a-0b9566ac1f3d"
      },
      "execution_count": 22,
      "outputs": [
        {
          "output_type": "display_data",
          "data": {
            "text/plain": [
              "<Figure size 1080x432 with 1 Axes>"
            ],
            "image/png": "[encoded data removed]"
          },
          "metadata": {}
        }
      ]
    },
    {
      "cell_type": "markdown",
      "metadata": {
        "id": "yRkNsS8rrEN-"
      },
      "source": [
        "* TV shows are incresing continuosly.\n",
        "* Movies were incresing continuosly but after 2019 there is fall."
      ]
    },
    {
      "cell_type": "markdown",
      "metadata": {
        "id": "8cslwEhtlI8e"
      },
      "source": [
        "### On Month Basis"
      ]
    },
    {
      "cell_type": "code",
      "source": [
        "fig, ax = plt.subplots(figsize=(15,6),facecolor=\"#363336\")\n",
        "ax.patch.set_facecolor('#363336')\n",
        "sns.countplot(x='month_added', hue='type',lw=5, color='red', data=df, ax=ax)\n",
        "ax.tick_params(axis='x', colors='#F5E9F5',labelsize=15) \n",
        "ax.tick_params(axis='y', colors='#F5E9F5',labelsize=15)\n",
        "ax.set_xlabel(\"Months\", color='#F5E9F5', fontsize=20)\n",
        "ax.set_ylabel(\"Counts\",  color='#F5E9F5', fontsize=20)\n",
        "ax.set_title(\"Monthwise Movies & TV Shows\", color='#F5E9F5', fontsize=30)\n",
        "ax.spines['right'].set_visible(False)\n",
        "ax.spines['top'].set_visible(False)\n",
        "ax.spines['left'].set_visible(True)"
      ],
      "metadata": {
        "colab": {
          "base_uri": "https://localhost:8080/",
          "height": 431
        },
        "id": "h7yD9_7IQrbW",
        "outputId": "b86a4a82-d72e-4f20-addb-483fa266e752"
      },
      "execution_count": 23,
      "outputs": [
        {
          "output_type": "display_data",
          "data": {
            "text/plain": [
              "<Figure size 1080x432 with 1 Axes>"
            ],
            "image/png": "[encoded data removed]"
          },
          "metadata": {}
        }
      ]
    },
    {
      "cell_type": "markdown",
      "metadata": {
        "id": "VG7id29lrkGt"
      },
      "source": [
        "* From Octomber to January, maximum number of movies and TV shows were added.\n",
        "* Possible reason for that is, during this period of time events such as Christmas, New Year and several holidays takes place."
      ]
    },
    {
      "cell_type": "markdown",
      "metadata": {
        "id": "c6C9GUCDlMm3"
      },
      "source": [
        "### On Day Basis"
      ]
    },
    {
      "cell_type": "code",
      "source": [
        "fig, ax = plt.subplots(figsize=(15,6),facecolor=\"#363336\")\n",
        "ax.patch.set_facecolor('#363336')\n",
        "sns.countplot(x='day_added', hue='type',lw=5, color='red', data=df, ax=ax)\n",
        "ax.tick_params(axis='x', colors='#F5E9F5',labelsize=15) \n",
        "ax.tick_params(axis='y', colors='#F5E9F5',labelsize=15)\n",
        "ax.set_xlabel(\"Days\", color='#F5E9F5', fontsize=20)\n",
        "ax.set_ylabel(\"Counts\",  color='#F5E9F5', fontsize=20)\n",
        "ax.set_title(\"Daywise Movies & TV Shows\", color='#F5E9F5', fontsize=30)\n",
        "ax.spines['right'].set_visible(False)\n",
        "ax.spines['top'].set_visible(False)\n",
        "ax.spines['left'].set_visible(True)"
      ],
      "metadata": {
        "colab": {
          "base_uri": "https://localhost:8080/",
          "height": 431
        },
        "id": "pHkw_PSkQ5Hm",
        "outputId": "dc2ac40c-54a2-4eed-fff2-2b12ee9efd3e"
      },
      "execution_count": 24,
      "outputs": [
        {
          "output_type": "display_data",
          "data": {
            "text/plain": [
              "<Figure size 1080x432 with 1 Axes>"
            ],
            "image/png": "[encoded data removed]"
          },
          "metadata": {}
        }
      ]
    },
    {
      "cell_type": "markdown",
      "metadata": {
        "id": "CaWAqkXns3Kz"
      },
      "source": [
        "* Maximum number of movies and TV shows were either on start of the month or mid of the month. "
      ]
    },
    {
      "cell_type": "markdown",
      "metadata": {
        "id": "cE4Bg4MqtY3Z"
      },
      "source": [
        "## Wordwide Presence of Netflix"
      ]
    },
    {
      "cell_type": "markdown",
      "metadata": {
        "id": "kBx8k1KStfvX"
      },
      "source": [
        "* Popularity Netflix is all over the world.\n",
        "* Lets look for its highest presence over countries."
      ]
    },
    {
      "cell_type": "markdown",
      "metadata": {
        "id": "sJWrEJu3t1Bu"
      },
      "source": [
        "### Top 10 Countries having maximum Movies and TV Shows"
      ]
    },
    {
      "cell_type": "code",
      "source": [
        "fig, ax = plt.subplots(figsize=(12,5),facecolor=\"#363336\")\n",
        "ax.patch.set_facecolor('#363336')\n",
        "(df['country'].value_counts().sort_values()/df.shape[0]*100)[-10:].plot(kind='barh', ax=ax,color ='red',alpha=0.8)\n",
        "ax.tick_params(axis= 'x', colors='#F5E9F5',labelsize=15) \n",
        "ax.tick_params(axis='y', colors='#F5E9F5',labelsize=15)\n",
        "ax.set_xlabel(\"Percentage\", color='#F5E9F5', fontsize=20)\n",
        "ax.set_title(\"Top 10 Countries\", color='#F5E9F5', fontsize=30)\n",
        "ax.spines['right'].set_visible(False)\n",
        "ax.spines['top'].set_visible(False)\n",
        "ax.spines['left'].set_visible(False)"
      ],
      "metadata": {
        "colab": {
          "base_uri": "https://localhost:8080/",
          "height": 377
        },
        "id": "t1NOpvUjRUI_",
        "outputId": "ecdb9f40-af5a-491c-c0d0-0576f7e93b31"
      },
      "execution_count": 25,
      "outputs": [
        {
          "output_type": "display_data",
          "data": {
            "text/plain": [
              "<Figure size 864x360 with 1 Axes>"
            ],
            "image/png": "[encoded data removed]"
          },
          "metadata": {}
        }
      ]
    },
    {
      "cell_type": "markdown",
      "metadata": {
        "id": "aUL4g8q0uovU"
      },
      "source": [
        "* Unites State tops the in list of maximum number of movies and TV shows.\n",
        "* Followed by India, UK and Japan."
      ]
    },
    {
      "cell_type": "markdown",
      "metadata": {
        "id": "W8Nugmd9vu_9"
      },
      "source": [
        "## Ratings on Movies and TV Shows"
      ]
    },
    {
      "cell_type": "markdown",
      "metadata": {
        "id": "t0Vow7E5wden"
      },
      "source": [
        "**For Movies:**\n",
        "* G: Kids\n",
        "* PG: Older Kids (7+)\n",
        "* PG-13: Teens (13+)\n",
        "* NC-17, NR, R, Unrated: Adults (18+)\n",
        "\n",
        "\n",
        "**For TV Shows:**\n",
        "* TV-G, TV-Y: Kids\n",
        "* TV-Y7/FV/PG: Older Kids (7+)\n",
        "* TV-14: Young Adults (16+)\n",
        "* TV-MA: Adults (18+)\n"
      ]
    },
    {
      "cell_type": "code",
      "source": [
        "fig, ax = plt.subplots(figsize=(15,6),facecolor=\"#363336\")\n",
        "ax.patch.set_facecolor('#363336')\n",
        "sns.countplot(x='rating', hue='type',lw=5, color='red', data=df, ax=ax)\n",
        "ax.tick_params(axis='x', colors='#F5E9F5',labelsize=15) \n",
        "ax.tick_params(axis='y', colors='#F5E9F5',labelsize=15)\n",
        "ax.set_xlabel(\"Ratings\", color='#F5E9F5', fontsize=20)\n",
        "ax.set_ylabel(\"Counts\",  color='#F5E9F5', fontsize=20)\n",
        "ax.set_title(\"Ratings: Movies & TV Shows\", color='#F5E9F5', fontsize=30)\n",
        "ax.spines['right'].set_visible(False)\n",
        "ax.spines['top'].set_visible(False)\n",
        "ax.spines['left'].set_visible(True)"
      ],
      "metadata": {
        "colab": {
          "base_uri": "https://localhost:8080/",
          "height": 431
        },
        "id": "p7z2pjcDRiBn",
        "outputId": "66bf3480-e0a7-45cc-8dda-e69cd19aa4ae"
      },
      "execution_count": 26,
      "outputs": [
        {
          "output_type": "display_data",
          "data": {
            "text/plain": [
              "<Figure size 1080x432 with 1 Axes>"
            ],
            "image/png": "[encoded data removed]"
          },
          "metadata": {}
        }
      ]
    },
    {
      "cell_type": "markdown",
      "metadata": {
        "id": "z10aSX49xMIE"
      },
      "source": [
        "* Maximum of the movies as well as TV shows are for matures only.\n"
      ]
    },
    {
      "cell_type": "markdown",
      "metadata": {
        "id": "qUEjyJOA0i28"
      },
      "source": [
        "## Top 10 Cast Involved either in Movies or TV Shows"
      ]
    },
    {
      "cell_type": "code",
      "source": [
        "# just take look at values of cast\n",
        "df['cast'][1]"
      ],
      "metadata": {
        "colab": {
          "base_uri": "https://localhost:8080/",
          "height": 35
        },
        "id": "k_vqY7JkR4u3",
        "outputId": "18cbb876-a8c2-4a3c-f0d1-3a298bd815ba"
      },
      "execution_count": 27,
      "outputs": [
        {
          "output_type": "execute_result",
          "data": {
            "text/plain": [
              "'Demián Bichir, Héctor Bonilla, Oscar Serrano, Azalia Ortiz, Octavio Michel, Carmen Beato'"
            ],
            "application/vnd.google.colaboratory.intrinsic+json": {
              "type": "string"
            }
          },
          "metadata": {},
          "execution_count": 27
        }
      ]
    },
    {
      "cell_type": "code",
      "source": [
        "# list of cast by making split by comma\n",
        "df['cast'] = df['cast'].apply(lambda x :  x.split(', '))"
      ],
      "metadata": {
        "id": "AL1MV9fTSD1O"
      },
      "execution_count": 28,
      "outputs": []
    },
    {
      "cell_type": "code",
      "source": [
        "# making list which contains all the entries from rows\n",
        "cast_list = []\n",
        "for i in df['cast']:\n",
        "  cast_list += i\n",
        "\n",
        "# unique cast    \n",
        "unique_cast = set(cast_list)\n",
        "\n",
        "# create dictionary to save cast and their counts\n",
        "cast_dict = dict((i, cast_list.count(i)) for i in unique_cast)\n",
        "\n",
        "# create dataframe from above dictionary\n",
        "cast_df = pd.DataFrame.from_dict(cast_dict, orient='index',\n",
        "                       columns=['Counts']).sort_values('Counts',ascending=True).reset_index().rename(columns = {'index' : 'cast'})"
      ],
      "metadata": {
        "id": "QWWvt5kySGJX"
      },
      "execution_count": 29,
      "outputs": []
    },
    {
      "cell_type": "code",
      "source": [
        "# plot of top 10 cast involved either movies or tv shows\n",
        "fig, ax = plt.subplots(figsize=(10,5),facecolor=\"#363336\")\n",
        "ax.patch.set_facecolor('#363336')\n",
        "ax.barh(y=cast_df['cast'][-11:-1], width = cast_df['Counts'][-11:-1], height=0.4, color = 'red',alpha=0.8)\n",
        "ax.tick_params(axis= 'x', colors='#F5E9F5',labelsize=15) \n",
        "ax.tick_params(axis='y', colors='#F5E9F5',labelsize=15)\n",
        "ax.set_xlabel(\"Number of movies\", color='#F5E9F5', fontsize=20)\n",
        "ax.set_title(\"Top 10 Cast\", color='#F5E9F5', fontsize=30)\n",
        "ax.spines['right'].set_visible(False)\n",
        "ax.spines['top'].set_visible(False)\n",
        "ax.spines['left'].set_visible(True)"
      ],
      "metadata": {
        "colab": {
          "base_uri": "https://localhost:8080/",
          "height": 377
        },
        "id": "WhJtKmEMSae_",
        "outputId": "a5730152-3706-4b27-b4c5-dbe5ffea4b2f"
      },
      "execution_count": 30,
      "outputs": [
        {
          "output_type": "display_data",
          "data": {
            "text/plain": [
              "<Figure size 720x360 with 1 Axes>"
            ],
            "image/png": "[encoded data removed]"
          },
          "metadata": {}
        }
      ]
    },
    {
      "cell_type": "markdown",
      "metadata": {
        "id": "TrLFCKua2a90"
      },
      "source": [
        "* Anupam Kher have maximum number of movies or TV shows."
      ]
    },
    {
      "cell_type": "markdown",
      "metadata": {
        "id": "x9zXzoKS2qD2"
      },
      "source": [
        "## Seperate Dataframes for Movies and TV Shows"
      ]
    },
    {
      "cell_type": "code",
      "source": [
        "# All the movies and TV shows in different dataframe\n",
        "movies_df = df[df['type']=='Movie']\n",
        "tv_df = df[df['type']=='TV Show']"
      ],
      "metadata": {
        "id": "CWFVGWXzSzE4"
      },
      "execution_count": 31,
      "outputs": []
    },
    {
      "cell_type": "markdown",
      "metadata": {
        "id": "msNL5b6L7JFS"
      },
      "source": [
        "### Running Time of Movies"
      ]
    },
    {
      "cell_type": "code",
      "source": [
        "fig, ax = plt.subplots(figsize=(20,7),facecolor=\"#363336\")\n",
        "ax.patch.set_facecolor('#363336')\n",
        "sns.distplot(movies_df['duration'], hist=True, bins=60,color='red', ax=ax)\n",
        "ax.tick_params(axis= 'x', colors='#F5E9F5',labelsize=15) \n",
        "ax.tick_params(axis='y', colors='#F5E9F5',labelsize=15)\n",
        "ax.set_xlabel(\"Duration\", color='#F5E9F5', fontsize=20)\n",
        "ax.set_ylabel(\"Density\", color='#F5E9F5', fontsize=20)\n",
        "ax.set_title(\"Running Time of Movies\", color='#F5E9F5', fontsize=30)\n",
        "ax.spines['right'].set_visible(False)\n",
        "ax.spines['top'].set_visible(False)\n",
        "ax.spines['left'].set_visible(True)"
      ],
      "metadata": {
        "colab": {
          "base_uri": "https://localhost:8080/",
          "height": 448
        },
        "id": "jOUZc8ZpTHMQ",
        "outputId": "332d5061-04a9-4f0c-85ce-8ab77d3d52af"
      },
      "execution_count": 32,
      "outputs": [
        {
          "output_type": "display_data",
          "data": {
            "text/plain": [
              "<Figure size 1440x504 with 1 Axes>"
            ],
            "image/png": "[encoded data removed]"
          },
          "metadata": {}
        }
      ]
    },
    {
      "cell_type": "markdown",
      "metadata": {
        "id": "G5Xkti3_74km"
      },
      "source": [
        "* Majority of movies have running time of between 50 to 150 min."
      ]
    },
    {
      "cell_type": "markdown",
      "metadata": {
        "id": "e-HxxmlF7oLQ"
      },
      "source": [
        "### Seasons of TV Shows"
      ]
    },
    {
      "cell_type": "code",
      "source": [
        "fig, ax = plt.subplots(figsize=(8,5),facecolor=\"#363336\")\n",
        "ax.patch.set_facecolor('#363336')\n",
        "(tv_df['duration'].value_counts().sort_values()/tv_df.shape[0]*100)[-10:].plot(kind='barh', ax=ax,color ='red',alpha=0.5)\n",
        "ax.tick_params(axis='x', colors='#F5E9F5',labelsize=15) \n",
        "ax.tick_params(axis='y', colors='#F5E9F5',labelsize=15)\n",
        "ax.set_xlabel(\"Percentage\", color='#F5E9F5', fontsize=20)\n",
        "ax.set_ylabel(\"Number of Seasons\", color='#F5E9F5', fontsize=20)\n",
        "ax.set_title(\"TV Shows Seasons\", color='#F5E9F5', fontsize=30)\n",
        "ax.spines['right'].set_visible(False)\n",
        "ax.spines['top'].set_visible(False)\n",
        "ax.spines['left'].set_visible(True)"
      ],
      "metadata": {
        "colab": {
          "base_uri": "https://localhost:8080/",
          "height": 377
        },
        "id": "1rBdtdXrTL3A",
        "outputId": "188dde91-2368-4e59-9137-da1b9a3cbc07"
      },
      "execution_count": 33,
      "outputs": [
        {
          "output_type": "display_data",
          "data": {
            "text/plain": [
              "<Figure size 576x360 with 1 Axes>"
            ],
            "image/png": "[encoded data removed]"
          },
          "metadata": {}
        }
      ]
    },
    {
      "cell_type": "markdown",
      "metadata": {
        "id": "byXewA1H8KFx"
      },
      "source": [
        "* Almost 68% of TV shows consist of single season only."
      ]
    },
    {
      "cell_type": "markdown",
      "metadata": {
        "id": "aRmawVjK8dIq"
      },
      "source": [
        "## Top Genres in Movies & TV Shows"
      ]
    },
    {
      "cell_type": "code",
      "source": [
        "# list of genres by making split by comma\n",
        "movies_df['listed_in'] = movies_df['listed_in'].apply(lambda x :  x.split(','))\n",
        "tv_df['listed_in'] = tv_df['listed_in'].apply(lambda x :  x.split(','))"
      ],
      "metadata": {
        "id": "JTPFDoFeTWKg"
      },
      "execution_count": 34,
      "outputs": []
    },
    {
      "cell_type": "code",
      "source": [
        "# creating list having all the genres in dataset\n",
        "movie_genre_list = []\n",
        "for i in movies_df['listed_in']:\n",
        "  movie_genre_list += i\n",
        "\n",
        "tv_genre_list = []\n",
        "for i in tv_df['listed_in']:\n",
        "  tv_genre_list += i"
      ],
      "metadata": {
        "id": "TdktigbbTeXQ"
      },
      "execution_count": 35,
      "outputs": []
    },
    {
      "cell_type": "code",
      "source": [
        "# to make dictionary out of list of genres\n",
        "from collections import Counter"
      ],
      "metadata": {
        "id": "pnFk421OTgMP"
      },
      "execution_count": 36,
      "outputs": []
    },
    {
      "cell_type": "code",
      "source": [
        "# creating dataframe for genres in movies and TV shows\n",
        "movie_genre_list = Counter(movie_genre_list)\n",
        "tv_genre_list = Counter(tv_genre_list)\n",
        "\n",
        "movie_genre_df = pd.DataFrame(movie_genre_list.items())\n",
        "TV_genre_df = pd.DataFrame(tv_genre_list.items())\n",
        "\n",
        "movie_genre_df.columns = ['genre','movie_count']\n",
        "TV_genre_df.columns = ['genre','tv_count']\n",
        "\n",
        "movie_genre_df = movie_genre_df.sort_values(by= 'movie_count').reset_index(drop=True)\n",
        "TV_genre_df = TV_genre_df.sort_values(by= 'tv_count').reset_index(drop=True)"
      ],
      "metadata": {
        "id": "YKaCGt5GTiB_"
      },
      "execution_count": 37,
      "outputs": []
    },
    {
      "cell_type": "code",
      "source": [
        "# first look of movie genres dataframe\n",
        "movie_genre_df"
      ],
      "metadata": {
        "colab": {
          "base_uri": "https://localhost:8080/",
          "height": 1000
        },
        "id": "HconPB6yTj1v",
        "outputId": "ec1ea671-53e4-4f46-fcbd-789d0d981ff8"
      },
      "execution_count": 38,
      "outputs": [
        {
          "output_type": "execute_result",
          "data": {
            "text/plain": [
              "                        genre  movie_count\n",
              "0                LGBTQ Movies            1\n",
              "1               Sports Movies            1\n",
              "2             Romantic Movies            3\n",
              "3             Stand-Up Comedy            8\n",
              "4            Sci-Fi & Fantasy           11\n",
              "5                 Cult Movies           12\n",
              "6            Music & Musicals           17\n",
              "7              Anime Features           19\n",
              "8          Independent Movies           20\n",
              "9              Classic Movies           26\n",
              "10   Children & Family Movies           30\n",
              "11              Documentaries           35\n",
              "12             Anime Features           38\n",
              "13                Cult Movies           47\n",
              "14                  Thrillers           49\n",
              "15                     Movies           56\n",
              "16       Faith & Spirituality           57\n",
              "17              Horror Movies           68\n",
              "18             Classic Movies           77\n",
              "19               LGBTQ Movies           89\n",
              "20       International Movies          114\n",
              "21              Sports Movies          195\n",
              "22           Sci-Fi & Fantasy          207\n",
              "23              Horror Movies          244\n",
              "24           Music & Musicals          304\n",
              "25            Stand-Up Comedy          321\n",
              "26                   Comedies          397\n",
              "27                  Thrillers          442\n",
              "28   Children & Family Movies          502\n",
              "29            Romantic Movies          528\n",
              "30         Independent Movies          653\n",
              "31         Action & Adventure          721\n",
              "32                     Dramas          722\n",
              "33              Documentaries          751\n",
              "34                   Comedies         1074\n",
              "35                     Dramas         1384\n",
              "36       International Movies         2323"
            ],
            "text/html": [
              "\n",
              "  <div id=\"df-d4311c0e-9fef-4a10-8a34-717647b29ee3\">\n",
              "    <div class=\"colab-df-container\">\n",
              "      <div>\n",
              "<style scoped>\n",
              "    .dataframe tbody tr th:only-of-type {\n",
              "        vertical-align: middle;\n",
              "    }\n",
              "\n",
              "    .dataframe tbody tr th {\n",
              "        vertical-align: top;\n",
              "    }\n",
              "\n",
              "    .dataframe thead th {\n",
              "        text-align: right;\n",
              "    }\n",
              "</style>\n",
              "<table border=\"1\" class=\"dataframe\">\n",
              "  <thead>\n",
              "    <tr style=\"text-align: right;\">\n",
              "      <th></th>\n",
              "      <th>genre</th>\n",
              "      <th>movie_count</th>\n",
              "    </tr>\n",
              "  </thead>\n",
              "  <tbody>\n",
              "    <tr>\n",
              "      <th>0</th>\n",
              "      <td>LGBTQ Movies</td>\n",
              "      <td>1</td>\n",
              "    </tr>\n",
              "    <tr>\n",
              "      <th>1</th>\n",
              "      <td>Sports Movies</td>\n",
              "      <td>1</td>\n",
              "    </tr>\n",
              "    <tr>\n",
              "      <th>2</th>\n",
              "      <td>Romantic Movies</td>\n",
              "      <td>3</td>\n",
              "    </tr>\n",
              "    <tr>\n",
              "      <th>3</th>\n",
              "      <td>Stand-Up Comedy</td>\n",
              "      <td>8</td>\n",
              "    </tr>\n",
              "    <tr>\n",
              "      <th>4</th>\n",
              "      <td>Sci-Fi &amp; Fantasy</td>\n",
              "      <td>11</td>\n",
              "    </tr>\n",
              "    <tr>\n",
              "      <th>5</th>\n",
              "      <td>Cult Movies</td>\n",
              "      <td>12</td>\n",
              "    </tr>\n",
              "    <tr>\n",
              "      <th>6</th>\n",
              "      <td>Music &amp; Musicals</td>\n",
              "      <td>17</td>\n",
              "    </tr>\n",
              "    <tr>\n",
              "      <th>7</th>\n",
              "      <td>Anime Features</td>\n",
              "      <td>19</td>\n",
              "    </tr>\n",
              "    <tr>\n",
              "      <th>8</th>\n",
              "      <td>Independent Movies</td>\n",
              "      <td>20</td>\n",
              "    </tr>\n",
              "    <tr>\n",
              "      <th>9</th>\n",
              "      <td>Classic Movies</td>\n",
              "      <td>26</td>\n",
              "    </tr>\n",
              "    <tr>\n",
              "      <th>10</th>\n",
              "      <td>Children &amp; Family Movies</td>\n",
              "      <td>30</td>\n",
              "    </tr>\n",
              "    <tr>\n",
              "      <th>11</th>\n",
              "      <td>Documentaries</td>\n",
              "      <td>35</td>\n",
              "    </tr>\n",
              "    <tr>\n",
              "      <th>12</th>\n",
              "      <td>Anime Features</td>\n",
              "      <td>38</td>\n",
              "    </tr>\n",
              "    <tr>\n",
              "      <th>13</th>\n",
              "      <td>Cult Movies</td>\n",
              "      <td>47</td>\n",
              "    </tr>\n",
              "    <tr>\n",
              "      <th>14</th>\n",
              "      <td>Thrillers</td>\n",
              "      <td>49</td>\n",
              "    </tr>\n",
              "    <tr>\n",
              "      <th>15</th>\n",
              "      <td>Movies</td>\n",
              "      <td>56</td>\n",
              "    </tr>\n",
              "    <tr>\n",
              "      <th>16</th>\n",
              "      <td>Faith &amp; Spirituality</td>\n",
              "      <td>57</td>\n",
              "    </tr>\n",
              "    <tr>\n",
              "      <th>17</th>\n",
              "      <td>Horror Movies</td>\n",
              "      <td>68</td>\n",
              "    </tr>\n",
              "    <tr>\n",
              "      <th>18</th>\n",
              "      <td>Classic Movies</td>\n",
              "      <td>77</td>\n",
              "    </tr>\n",
              "    <tr>\n",
              "      <th>19</th>\n",
              "      <td>LGBTQ Movies</td>\n",
              "      <td>89</td>\n",
              "    </tr>\n",
              "    <tr>\n",
              "      <th>20</th>\n",
              "      <td>International Movies</td>\n",
              "      <td>114</td>\n",
              "    </tr>\n",
              "    <tr>\n",
              "      <th>21</th>\n",
              "      <td>Sports Movies</td>\n",
              "      <td>195</td>\n",
              "    </tr>\n",
              "    <tr>\n",
              "      <th>22</th>\n",
              "      <td>Sci-Fi &amp; Fantasy</td>\n",
              "      <td>207</td>\n",
              "    </tr>\n",
              "    <tr>\n",
              "      <th>23</th>\n",
              "      <td>Horror Movies</td>\n",
              "      <td>244</td>\n",
              "    </tr>\n",
              "    <tr>\n",
              "      <th>24</th>\n",
              "      <td>Music &amp; Musicals</td>\n",
              "      <td>304</td>\n",
              "    </tr>\n",
              "    <tr>\n",
              "      <th>25</th>\n",
              "      <td>Stand-Up Comedy</td>\n",
              "      <td>321</td>\n",
              "    </tr>\n",
              "    <tr>\n",
              "      <th>26</th>\n",
              "      <td>Comedies</td>\n",
              "      <td>397</td>\n",
              "    </tr>\n",
              "    <tr>\n",
              "      <th>27</th>\n",
              "      <td>Thrillers</td>\n",
              "      <td>442</td>\n",
              "    </tr>\n",
              "    <tr>\n",
              "      <th>28</th>\n",
              "      <td>Children &amp; Family Movies</td>\n",
              "      <td>502</td>\n",
              "    </tr>\n",
              "    <tr>\n",
              "      <th>29</th>\n",
              "      <td>Romantic Movies</td>\n",
              "      <td>528</td>\n",
              "    </tr>\n",
              "    <tr>\n",
              "      <th>30</th>\n",
              "      <td>Independent Movies</td>\n",
              "      <td>653</td>\n",
              "    </tr>\n",
              "    <tr>\n",
              "      <th>31</th>\n",
              "      <td>Action &amp; Adventure</td>\n",
              "      <td>721</td>\n",
              "    </tr>\n",
              "    <tr>\n",
              "      <th>32</th>\n",
              "      <td>Dramas</td>\n",
              "      <td>722</td>\n",
              "    </tr>\n",
              "    <tr>\n",
              "      <th>33</th>\n",
              "      <td>Documentaries</td>\n",
              "      <td>751</td>\n",
              "    </tr>\n",
              "    <tr>\n",
              "      <th>34</th>\n",
              "      <td>Comedies</td>\n",
              "      <td>1074</td>\n",
              "    </tr>\n",
              "    <tr>\n",
              "      <th>35</th>\n",
              "      <td>Dramas</td>\n",
              "      <td>1384</td>\n",
              "    </tr>\n",
              "    <tr>\n",
              "      <th>36</th>\n",
              "      <td>International Movies</td>\n",
              "      <td>2323</td>\n",
              "    </tr>\n",
              "  </tbody>\n",
              "</table>\n",
              "</div>\n",
              "      <button class=\"colab-df-convert\" onclick=\"convertToInteractive('df-d4311c0e-9fef-4a10-8a34-717647b29ee3')\"\n",
              "              title=\"Convert this dataframe to an interactive table.\"\n",
              "              style=\"display:none;\">\n",
              "        \n",
              "  <svg xmlns=\"http://www.w3.org/2000/svg\" height=\"24px\"viewBox=\"0 0 24 24\"\n",
              "       width=\"24px\">\n",
              "    <path d=\"M0 0h24v24H0V0z\" fill=\"none\"/>\n",
              "    <path d=\"M18.56 5.44l.94 2.06.94-2.06 2.06-.94-2.06-.94-.94-2.06-.94 2.06-2.06.94zm-11 1L8.5 8.5l.94-2.06 2.06-.94-2.06-.94L8.5 2.5l-.94 2.06-2.06.94zm10 10l.94 2.06.94-2.06 2.06-.94-2.06-.94-.94-2.06-.94 2.06-2.06.94z\"/><path d=\"M17.41 7.96l-1.37-1.37c-.4-.4-.92-.59-1.43-.59-.52 0-1.04.2-1.43.59L10.3 9.45l-7.72 7.72c-.78.78-.78 2.05 0 2.83L4 21.41c.39.39.9.59 1.41.59.51 0 1.02-.2 1.41-.59l7.78-7.78 2.81-2.81c.8-.78.8-2.07 0-2.86zM5.41 20L4 18.59l7.72-7.72 1.47 1.35L5.41 20z\"/>\n",
              "  </svg>\n",
              "      </button>\n",
              "      \n",
              "  <style>\n",
              "    .colab-df-container {\n",
              "      display:flex;\n",
              "      flex-wrap:wrap;\n",
              "      gap: 12px;\n",
              "    }\n",
              "\n",
              "    .colab-df-convert {\n",
              "      background-color: #E8F0FE;\n",
              "      border: none;\n",
              "      border-radius: 50%;\n",
              "      cursor: pointer;\n",
              "      display: none;\n",
              "      fill: #1967D2;\n",
              "      height: 32px;\n",
              "      padding: 0 0 0 0;\n",
              "      width: 32px;\n",
              "    }\n",
              "\n",
              "    .colab-df-convert:hover {\n",
              "      background-color: #E2EBFA;\n",
              "      box-shadow: 0px 1px 2px rgba(60, 64, 67, 0.3), 0px 1px 3px 1px rgba(60, 64, 67, 0.15);\n",
              "      fill: #174EA6;\n",
              "    }\n",
              "\n",
              "    [theme=dark] .colab-df-convert {\n",
              "      background-color: #3B4455;\n",
              "      fill: #D2E3FC;\n",
              "    }\n",
              "\n",
              "    [theme=dark] .colab-df-convert:hover {\n",
              "      background-color: #434B5C;\n",
              "      box-shadow: 0px 1px 3px 1px rgba(0, 0, 0, 0.15);\n",
              "      filter: drop-shadow(0px 1px 2px rgba(0, 0, 0, 0.3));\n",
              "      fill: #FFFFFF;\n",
              "    }\n",
              "  </style>\n",
              "\n",
              "      <script>\n",
              "        const buttonEl =\n",
              "          document.querySelector('#df-d4311c0e-9fef-4a10-8a34-717647b29ee3 button.colab-df-convert');\n",
              "        buttonEl.style.display =\n",
              "          google.colab.kernel.accessAllowed ? 'block' : 'none';\n",
              "\n",
              "        async function convertToInteractive(key) {\n",
              "          const element = document.querySelector('#df-d4311c0e-9fef-4a10-8a34-717647b29ee3');\n",
              "          const dataTable =\n",
              "            await google.colab.kernel.invokeFunction('convertToInteractive',\n",
              "                                                     [key], {});\n",
              "          if (!dataTable) return;\n",
              "\n",
              "          const docLinkHtml = 'Like what you see? Visit the ' +\n",
              "            '<a target=\"_blank\" href=https://colab.research.google.com/notebooks/data_table.ipynb>data table notebook</a>'\n",
              "            + ' to learn more about interactive tables.';\n",
              "          element.innerHTML = '';\n",
              "          dataTable['output_type'] = 'display_data';\n",
              "          await google.colab.output.renderOutput(dataTable, element);\n",
              "          const docLink = document.createElement('div');\n",
              "          docLink.innerHTML = docLinkHtml;\n",
              "          element.appendChild(docLink);\n",
              "        }\n",
              "      </script>\n",
              "    </div>\n",
              "  </div>\n",
              "  "
            ]
          },
          "metadata": {},
          "execution_count": 38
        }
      ]
    },
    {
      "cell_type": "code",
      "source": [
        "# first look of TV shows genres dataframe\n",
        "TV_genre_df"
      ],
      "metadata": {
        "colab": {
          "base_uri": "https://localhost:8080/",
          "height": 1000
        },
        "id": "DJA0X8OzTlk3",
        "outputId": "7a053956-05ce-4d38-e4a3-b4015fe0e4d3"
      },
      "execution_count": 39,
      "outputs": [
        {
          "output_type": "execute_result",
          "data": {
            "text/plain": [
              "                            genre  tv_count\n",
              "0             TV Sci-Fi & Fantasy         1\n",
              "1       Spanish-Language TV Shows         2\n",
              "2               Classic & Cult TV         6\n",
              "3                       TV Horror        10\n",
              "4                        TV Shows        12\n",
              "5    Stand-Up Comedy & Talk Shows        19\n",
              "6               Classic & Cult TV        19\n",
              "7               Romantic TV Shows        28\n",
              "8    Stand-Up Comedy & Talk Shows        33\n",
              "9           TV Action & Adventure        36\n",
              "10                   TV Thrillers        50\n",
              "11                       Kids' TV        55\n",
              "12                 Crime TV Shows        57\n",
              "13                      TV Horror        59\n",
              "14                  Teen TV Shows        60\n",
              "15                      TV Dramas        62\n",
              "16            TV Sci-Fi & Fantasy        74\n",
              "17            Science & Nature TV        85\n",
              "18                   TV Mysteries        90\n",
              "19                     Reality TV       102\n",
              "20                    TV Comedies       109\n",
              "21          TV Action & Adventure       113\n",
              "22                     Reality TV       120\n",
              "23      Spanish-Language TV Shows       144\n",
              "24                   Anime Series       147\n",
              "25                Korean TV Shows       150\n",
              "26                     Docuseries       159\n",
              "27                     Docuseries       193\n",
              "28               British TV Shows       231\n",
              "29              Romantic TV Shows       305\n",
              "30                       Kids' TV       357\n",
              "31                 Crime TV Shows       369\n",
              "32                    TV Comedies       409\n",
              "33         International TV Shows       509\n",
              "34                      TV Dramas       641\n",
              "35         International TV Shows       689"
            ],
            "text/html": [
              "\n",
              "  <div id=\"df-f260ea02-e6e2-4603-9c49-c59f581f3804\">\n",
              "    <div class=\"colab-df-container\">\n",
              "      <div>\n",
              "<style scoped>\n",
              "    .dataframe tbody tr th:only-of-type {\n",
              "        vertical-align: middle;\n",
              "    }\n",
              "\n",
              "    .dataframe tbody tr th {\n",
              "        vertical-align: top;\n",
              "    }\n",
              "\n",
              "    .dataframe thead th {\n",
              "        text-align: right;\n",
              "    }\n",
              "</style>\n",
              "<table border=\"1\" class=\"dataframe\">\n",
              "  <thead>\n",
              "    <tr style=\"text-align: right;\">\n",
              "      <th></th>\n",
              "      <th>genre</th>\n",
              "      <th>tv_count</th>\n",
              "    </tr>\n",
              "  </thead>\n",
              "  <tbody>\n",
              "    <tr>\n",
              "      <th>0</th>\n",
              "      <td>TV Sci-Fi &amp; Fantasy</td>\n",
              "      <td>1</td>\n",
              "    </tr>\n",
              "    <tr>\n",
              "      <th>1</th>\n",
              "      <td>Spanish-Language TV Shows</td>\n",
              "      <td>2</td>\n",
              "    </tr>\n",
              "    <tr>\n",
              "      <th>2</th>\n",
              "      <td>Classic &amp; Cult TV</td>\n",
              "      <td>6</td>\n",
              "    </tr>\n",
              "    <tr>\n",
              "      <th>3</th>\n",
              "      <td>TV Horror</td>\n",
              "      <td>10</td>\n",
              "    </tr>\n",
              "    <tr>\n",
              "      <th>4</th>\n",
              "      <td>TV Shows</td>\n",
              "      <td>12</td>\n",
              "    </tr>\n",
              "    <tr>\n",
              "      <th>5</th>\n",
              "      <td>Stand-Up Comedy &amp; Talk Shows</td>\n",
              "      <td>19</td>\n",
              "    </tr>\n",
              "    <tr>\n",
              "      <th>6</th>\n",
              "      <td>Classic &amp; Cult TV</td>\n",
              "      <td>19</td>\n",
              "    </tr>\n",
              "    <tr>\n",
              "      <th>7</th>\n",
              "      <td>Romantic TV Shows</td>\n",
              "      <td>28</td>\n",
              "    </tr>\n",
              "    <tr>\n",
              "      <th>8</th>\n",
              "      <td>Stand-Up Comedy &amp; Talk Shows</td>\n",
              "      <td>33</td>\n",
              "    </tr>\n",
              "    <tr>\n",
              "      <th>9</th>\n",
              "      <td>TV Action &amp; Adventure</td>\n",
              "      <td>36</td>\n",
              "    </tr>\n",
              "    <tr>\n",
              "      <th>10</th>\n",
              "      <td>TV Thrillers</td>\n",
              "      <td>50</td>\n",
              "    </tr>\n",
              "    <tr>\n",
              "      <th>11</th>\n",
              "      <td>Kids' TV</td>\n",
              "      <td>55</td>\n",
              "    </tr>\n",
              "    <tr>\n",
              "      <th>12</th>\n",
              "      <td>Crime TV Shows</td>\n",
              "      <td>57</td>\n",
              "    </tr>\n",
              "    <tr>\n",
              "      <th>13</th>\n",
              "      <td>TV Horror</td>\n",
              "      <td>59</td>\n",
              "    </tr>\n",
              "    <tr>\n",
              "      <th>14</th>\n",
              "      <td>Teen TV Shows</td>\n",
              "      <td>60</td>\n",
              "    </tr>\n",
              "    <tr>\n",
              "      <th>15</th>\n",
              "      <td>TV Dramas</td>\n",
              "      <td>62</td>\n",
              "    </tr>\n",
              "    <tr>\n",
              "      <th>16</th>\n",
              "      <td>TV Sci-Fi &amp; Fantasy</td>\n",
              "      <td>74</td>\n",
              "    </tr>\n",
              "    <tr>\n",
              "      <th>17</th>\n",
              "      <td>Science &amp; Nature TV</td>\n",
              "      <td>85</td>\n",
              "    </tr>\n",
              "    <tr>\n",
              "      <th>18</th>\n",
              "      <td>TV Mysteries</td>\n",
              "      <td>90</td>\n",
              "    </tr>\n",
              "    <tr>\n",
              "      <th>19</th>\n",
              "      <td>Reality TV</td>\n",
              "      <td>102</td>\n",
              "    </tr>\n",
              "    <tr>\n",
              "      <th>20</th>\n",
              "      <td>TV Comedies</td>\n",
              "      <td>109</td>\n",
              "    </tr>\n",
              "    <tr>\n",
              "      <th>21</th>\n",
              "      <td>TV Action &amp; Adventure</td>\n",
              "      <td>113</td>\n",
              "    </tr>\n",
              "    <tr>\n",
              "      <th>22</th>\n",
              "      <td>Reality TV</td>\n",
              "      <td>120</td>\n",
              "    </tr>\n",
              "    <tr>\n",
              "      <th>23</th>\n",
              "      <td>Spanish-Language TV Shows</td>\n",
              "      <td>144</td>\n",
              "    </tr>\n",
              "    <tr>\n",
              "      <th>24</th>\n",
              "      <td>Anime Series</td>\n",
              "      <td>147</td>\n",
              "    </tr>\n",
              "    <tr>\n",
              "      <th>25</th>\n",
              "      <td>Korean TV Shows</td>\n",
              "      <td>150</td>\n",
              "    </tr>\n",
              "    <tr>\n",
              "      <th>26</th>\n",
              "      <td>Docuseries</td>\n",
              "      <td>159</td>\n",
              "    </tr>\n",
              "    <tr>\n",
              "      <th>27</th>\n",
              "      <td>Docuseries</td>\n",
              "      <td>193</td>\n",
              "    </tr>\n",
              "    <tr>\n",
              "      <th>28</th>\n",
              "      <td>British TV Shows</td>\n",
              "      <td>231</td>\n",
              "    </tr>\n",
              "    <tr>\n",
              "      <th>29</th>\n",
              "      <td>Romantic TV Shows</td>\n",
              "      <td>305</td>\n",
              "    </tr>\n",
              "    <tr>\n",
              "      <th>30</th>\n",
              "      <td>Kids' TV</td>\n",
              "      <td>357</td>\n",
              "    </tr>\n",
              "    <tr>\n",
              "      <th>31</th>\n",
              "      <td>Crime TV Shows</td>\n",
              "      <td>369</td>\n",
              "    </tr>\n",
              "    <tr>\n",
              "      <th>32</th>\n",
              "      <td>TV Comedies</td>\n",
              "      <td>409</td>\n",
              "    </tr>\n",
              "    <tr>\n",
              "      <th>33</th>\n",
              "      <td>International TV Shows</td>\n",
              "      <td>509</td>\n",
              "    </tr>\n",
              "    <tr>\n",
              "      <th>34</th>\n",
              "      <td>TV Dramas</td>\n",
              "      <td>641</td>\n",
              "    </tr>\n",
              "    <tr>\n",
              "      <th>35</th>\n",
              "      <td>International TV Shows</td>\n",
              "      <td>689</td>\n",
              "    </tr>\n",
              "  </tbody>\n",
              "</table>\n",
              "</div>\n",
              "      <button class=\"colab-df-convert\" onclick=\"convertToInteractive('df-f260ea02-e6e2-4603-9c49-c59f581f3804')\"\n",
              "              title=\"Convert this dataframe to an interactive table.\"\n",
              "              style=\"display:none;\">\n",
              "        \n",
              "  <svg xmlns=\"http://www.w3.org/2000/svg\" height=\"24px\"viewBox=\"0 0 24 24\"\n",
              "       width=\"24px\">\n",
              "    <path d=\"M0 0h24v24H0V0z\" fill=\"none\"/>\n",
              "    <path d=\"M18.56 5.44l.94 2.06.94-2.06 2.06-.94-2.06-.94-.94-2.06-.94 2.06-2.06.94zm-11 1L8.5 8.5l.94-2.06 2.06-.94-2.06-.94L8.5 2.5l-.94 2.06-2.06.94zm10 10l.94 2.06.94-2.06 2.06-.94-2.06-.94-.94-2.06-.94 2.06-2.06.94z\"/><path d=\"M17.41 7.96l-1.37-1.37c-.4-.4-.92-.59-1.43-.59-.52 0-1.04.2-1.43.59L10.3 9.45l-7.72 7.72c-.78.78-.78 2.05 0 2.83L4 21.41c.39.39.9.59 1.41.59.51 0 1.02-.2 1.41-.59l7.78-7.78 2.81-2.81c.8-.78.8-2.07 0-2.86zM5.41 20L4 18.59l7.72-7.72 1.47 1.35L5.41 20z\"/>\n",
              "  </svg>\n",
              "      </button>\n",
              "      \n",
              "  <style>\n",
              "    .colab-df-container {\n",
              "      display:flex;\n",
              "      flex-wrap:wrap;\n",
              "      gap: 12px;\n",
              "    }\n",
              "\n",
              "    .colab-df-convert {\n",
              "      background-color: #E8F0FE;\n",
              "      border: none;\n",
              "      border-radius: 50%;\n",
              "      cursor: pointer;\n",
              "      display: none;\n",
              "      fill: #1967D2;\n",
              "      height: 32px;\n",
              "      padding: 0 0 0 0;\n",
              "      width: 32px;\n",
              "    }\n",
              "\n",
              "    .colab-df-convert:hover {\n",
              "      background-color: #E2EBFA;\n",
              "      box-shadow: 0px 1px 2px rgba(60, 64, 67, 0.3), 0px 1px 3px 1px rgba(60, 64, 67, 0.15);\n",
              "      fill: #174EA6;\n",
              "    }\n",
              "\n",
              "    [theme=dark] .colab-df-convert {\n",
              "      background-color: #3B4455;\n",
              "      fill: #D2E3FC;\n",
              "    }\n",
              "\n",
              "    [theme=dark] .colab-df-convert:hover {\n",
              "      background-color: #434B5C;\n",
              "      box-shadow: 0px 1px 3px 1px rgba(0, 0, 0, 0.15);\n",
              "      filter: drop-shadow(0px 1px 2px rgba(0, 0, 0, 0.3));\n",
              "      fill: #FFFFFF;\n",
              "    }\n",
              "  </style>\n",
              "\n",
              "      <script>\n",
              "        const buttonEl =\n",
              "          document.querySelector('#df-f260ea02-e6e2-4603-9c49-c59f581f3804 button.colab-df-convert');\n",
              "        buttonEl.style.display =\n",
              "          google.colab.kernel.accessAllowed ? 'block' : 'none';\n",
              "\n",
              "        async function convertToInteractive(key) {\n",
              "          const element = document.querySelector('#df-f260ea02-e6e2-4603-9c49-c59f581f3804');\n",
              "          const dataTable =\n",
              "            await google.colab.kernel.invokeFunction('convertToInteractive',\n",
              "                                                     [key], {});\n",
              "          if (!dataTable) return;\n",
              "\n",
              "          const docLinkHtml = 'Like what you see? Visit the ' +\n",
              "            '<a target=\"_blank\" href=https://colab.research.google.com/notebooks/data_table.ipynb>data table notebook</a>'\n",
              "            + ' to learn more about interactive tables.';\n",
              "          element.innerHTML = '';\n",
              "          dataTable['output_type'] = 'display_data';\n",
              "          await google.colab.output.renderOutput(dataTable, element);\n",
              "          const docLink = document.createElement('div');\n",
              "          docLink.innerHTML = docLinkHtml;\n",
              "          element.appendChild(docLink);\n",
              "        }\n",
              "      </script>\n",
              "    </div>\n",
              "  </div>\n",
              "  "
            ]
          },
          "metadata": {},
          "execution_count": 39
        }
      ]
    },
    {
      "cell_type": "markdown",
      "metadata": {
        "id": "oVkOCI_w-jm1"
      },
      "source": [
        "* Some rows seems to be exactly same but due to initial space attached they are different.\n",
        "* Need to remove those spaces, so as to get total count of each genres.\n",
        "* After removing spaces, aggregation using pandas pivot table in order to get sum of counts of each genres."
      ]
    },
    {
      "cell_type": "code",
      "source": [
        "# to remove spaces around the word\n",
        "movie_genre_df['genre']=movie_genre_df['genre'].str.strip()\n",
        "TV_genre_df['genre']=TV_genre_df['genre'].str.strip()"
      ],
      "metadata": {
        "id": "3g5HBG8TTo9n"
      },
      "execution_count": 40,
      "outputs": []
    },
    {
      "cell_type": "code",
      "source": [
        "# Aggregating dataframe so as to get final counts of each genres\n",
        "movie_genre_df = pd.pivot_table(movie_genre_df, index=['genre'],values=['movie_count'], aggfunc='sum').reset_index().sort_values('movie_count')\n",
        "TV_genre_df = pd.pivot_table(TV_genre_df, index=['genre'],values=['tv_count'], aggfunc='sum').reset_index().sort_values('tv_count')"
      ],
      "metadata": {
        "id": "7B4sOyOzTt_I"
      },
      "execution_count": 41,
      "outputs": []
    },
    {
      "cell_type": "code",
      "source": [
        "# Final movie genres datafrmae look like\n",
        "movie_genre_df"
      ],
      "metadata": {
        "colab": {
          "base_uri": "https://localhost:8080/",
          "height": 677
        },
        "id": "xIDrSjXhTvww",
        "outputId": "fc1a87fe-cddd-4fb1-de6f-eefdf16f6760"
      },
      "execution_count": 42,
      "outputs": [
        {
          "output_type": "execute_result",
          "data": {
            "text/plain": [
              "                       genre  movie_count\n",
              "13                    Movies           56\n",
              "1             Anime Features           57\n",
              "8       Faith & Spirituality           57\n",
              "5                Cult Movies           59\n",
              "12              LGBTQ Movies           90\n",
              "3             Classic Movies          103\n",
              "17             Sports Movies          196\n",
              "16          Sci-Fi & Fantasy          218\n",
              "9              Horror Movies          312\n",
              "14          Music & Musicals          321\n",
              "18           Stand-Up Comedy          329\n",
              "19                 Thrillers          491\n",
              "15           Romantic Movies          531\n",
              "2   Children & Family Movies          532\n",
              "10        Independent Movies          673\n",
              "0         Action & Adventure          721\n",
              "6              Documentaries          786\n",
              "4                   Comedies         1471\n",
              "7                     Dramas         2106\n",
              "11      International Movies         2437"
            ],
            "text/html": [
              "\n",
              "  <div id=\"df-e2c62e40-3704-44b7-8e8e-dc8ee1486f80\">\n",
              "    <div class=\"colab-df-container\">\n",
              "      <div>\n",
              "<style scoped>\n",
              "    .dataframe tbody tr th:only-of-type {\n",
              "        vertical-align: middle;\n",
              "    }\n",
              "\n",
              "    .dataframe tbody tr th {\n",
              "        vertical-align: top;\n",
              "    }\n",
              "\n",
              "    .dataframe thead th {\n",
              "        text-align: right;\n",
              "    }\n",
              "</style>\n",
              "<table border=\"1\" class=\"dataframe\">\n",
              "  <thead>\n",
              "    <tr style=\"text-align: right;\">\n",
              "      <th></th>\n",
              "      <th>genre</th>\n",
              "      <th>movie_count</th>\n",
              "    </tr>\n",
              "  </thead>\n",
              "  <tbody>\n",
              "    <tr>\n",
              "      <th>13</th>\n",
              "      <td>Movies</td>\n",
              "      <td>56</td>\n",
              "    </tr>\n",
              "    <tr>\n",
              "      <th>1</th>\n",
              "      <td>Anime Features</td>\n",
              "      <td>57</td>\n",
              "    </tr>\n",
              "    <tr>\n",
              "      <th>8</th>\n",
              "      <td>Faith &amp; Spirituality</td>\n",
              "      <td>57</td>\n",
              "    </tr>\n",
              "    <tr>\n",
              "      <th>5</th>\n",
              "      <td>Cult Movies</td>\n",
              "      <td>59</td>\n",
              "    </tr>\n",
              "    <tr>\n",
              "      <th>12</th>\n",
              "      <td>LGBTQ Movies</td>\n",
              "      <td>90</td>\n",
              "    </tr>\n",
              "    <tr>\n",
              "      <th>3</th>\n",
              "      <td>Classic Movies</td>\n",
              "      <td>103</td>\n",
              "    </tr>\n",
              "    <tr>\n",
              "      <th>17</th>\n",
              "      <td>Sports Movies</td>\n",
              "      <td>196</td>\n",
              "    </tr>\n",
              "    <tr>\n",
              "      <th>16</th>\n",
              "      <td>Sci-Fi &amp; Fantasy</td>\n",
              "      <td>218</td>\n",
              "    </tr>\n",
              "    <tr>\n",
              "      <th>9</th>\n",
              "      <td>Horror Movies</td>\n",
              "      <td>312</td>\n",
              "    </tr>\n",
              "    <tr>\n",
              "      <th>14</th>\n",
              "      <td>Music &amp; Musicals</td>\n",
              "      <td>321</td>\n",
              "    </tr>\n",
              "    <tr>\n",
              "      <th>18</th>\n",
              "      <td>Stand-Up Comedy</td>\n",
              "      <td>329</td>\n",
              "    </tr>\n",
              "    <tr>\n",
              "      <th>19</th>\n",
              "      <td>Thrillers</td>\n",
              "      <td>491</td>\n",
              "    </tr>\n",
              "    <tr>\n",
              "      <th>15</th>\n",
              "      <td>Romantic Movies</td>\n",
              "      <td>531</td>\n",
              "    </tr>\n",
              "    <tr>\n",
              "      <th>2</th>\n",
              "      <td>Children &amp; Family Movies</td>\n",
              "      <td>532</td>\n",
              "    </tr>\n",
              "    <tr>\n",
              "      <th>10</th>\n",
              "      <td>Independent Movies</td>\n",
              "      <td>673</td>\n",
              "    </tr>\n",
              "    <tr>\n",
              "      <th>0</th>\n",
              "      <td>Action &amp; Adventure</td>\n",
              "      <td>721</td>\n",
              "    </tr>\n",
              "    <tr>\n",
              "      <th>6</th>\n",
              "      <td>Documentaries</td>\n",
              "      <td>786</td>\n",
              "    </tr>\n",
              "    <tr>\n",
              "      <th>4</th>\n",
              "      <td>Comedies</td>\n",
              "      <td>1471</td>\n",
              "    </tr>\n",
              "    <tr>\n",
              "      <th>7</th>\n",
              "      <td>Dramas</td>\n",
              "      <td>2106</td>\n",
              "    </tr>\n",
              "    <tr>\n",
              "      <th>11</th>\n",
              "      <td>International Movies</td>\n",
              "      <td>2437</td>\n",
              "    </tr>\n",
              "  </tbody>\n",
              "</table>\n",
              "</div>\n",
              "      <button class=\"colab-df-convert\" onclick=\"convertToInteractive('df-e2c62e40-3704-44b7-8e8e-dc8ee1486f80')\"\n",
              "              title=\"Convert this dataframe to an interactive table.\"\n",
              "              style=\"display:none;\">\n",
              "        \n",
              "  <svg xmlns=\"http://www.w3.org/2000/svg\" height=\"24px\"viewBox=\"0 0 24 24\"\n",
              "       width=\"24px\">\n",
              "    <path d=\"M0 0h24v24H0V0z\" fill=\"none\"/>\n",
              "    <path d=\"M18.56 5.44l.94 2.06.94-2.06 2.06-.94-2.06-.94-.94-2.06-.94 2.06-2.06.94zm-11 1L8.5 8.5l.94-2.06 2.06-.94-2.06-.94L8.5 2.5l-.94 2.06-2.06.94zm10 10l.94 2.06.94-2.06 2.06-.94-2.06-.94-.94-2.06-.94 2.06-2.06.94z\"/><path d=\"M17.41 7.96l-1.37-1.37c-.4-.4-.92-.59-1.43-.59-.52 0-1.04.2-1.43.59L10.3 9.45l-7.72 7.72c-.78.78-.78 2.05 0 2.83L4 21.41c.39.39.9.59 1.41.59.51 0 1.02-.2 1.41-.59l7.78-7.78 2.81-2.81c.8-.78.8-2.07 0-2.86zM5.41 20L4 18.59l7.72-7.72 1.47 1.35L5.41 20z\"/>\n",
              "  </svg>\n",
              "      </button>\n",
              "      \n",
              "  <style>\n",
              "    .colab-df-container {\n",
              "      display:flex;\n",
              "      flex-wrap:wrap;\n",
              "      gap: 12px;\n",
              "    }\n",
              "\n",
              "    .colab-df-convert {\n",
              "      background-color: #E8F0FE;\n",
              "      border: none;\n",
              "      border-radius: 50%;\n",
              "      cursor: pointer;\n",
              "      display: none;\n",
              "      fill: #1967D2;\n",
              "      height: 32px;\n",
              "      padding: 0 0 0 0;\n",
              "      width: 32px;\n",
              "    }\n",
              "\n",
              "    .colab-df-convert:hover {\n",
              "      background-color: #E2EBFA;\n",
              "      box-shadow: 0px 1px 2px rgba(60, 64, 67, 0.3), 0px 1px 3px 1px rgba(60, 64, 67, 0.15);\n",
              "      fill: #174EA6;\n",
              "    }\n",
              "\n",
              "    [theme=dark] .colab-df-convert {\n",
              "      background-color: #3B4455;\n",
              "      fill: #D2E3FC;\n",
              "    }\n",
              "\n",
              "    [theme=dark] .colab-df-convert:hover {\n",
              "      background-color: #434B5C;\n",
              "      box-shadow: 0px 1px 3px 1px rgba(0, 0, 0, 0.15);\n",
              "      filter: drop-shadow(0px 1px 2px rgba(0, 0, 0, 0.3));\n",
              "      fill: #FFFFFF;\n",
              "    }\n",
              "  </style>\n",
              "\n",
              "      <script>\n",
              "        const buttonEl =\n",
              "          document.querySelector('#df-e2c62e40-3704-44b7-8e8e-dc8ee1486f80 button.colab-df-convert');\n",
              "        buttonEl.style.display =\n",
              "          google.colab.kernel.accessAllowed ? 'block' : 'none';\n",
              "\n",
              "        async function convertToInteractive(key) {\n",
              "          const element = document.querySelector('#df-e2c62e40-3704-44b7-8e8e-dc8ee1486f80');\n",
              "          const dataTable =\n",
              "            await google.colab.kernel.invokeFunction('convertToInteractive',\n",
              "                                                     [key], {});\n",
              "          if (!dataTable) return;\n",
              "\n",
              "          const docLinkHtml = 'Like what you see? Visit the ' +\n",
              "            '<a target=\"_blank\" href=https://colab.research.google.com/notebooks/data_table.ipynb>data table notebook</a>'\n",
              "            + ' to learn more about interactive tables.';\n",
              "          element.innerHTML = '';\n",
              "          dataTable['output_type'] = 'display_data';\n",
              "          await google.colab.output.renderOutput(dataTable, element);\n",
              "          const docLink = document.createElement('div');\n",
              "          docLink.innerHTML = docLinkHtml;\n",
              "          element.appendChild(docLink);\n",
              "        }\n",
              "      </script>\n",
              "    </div>\n",
              "  </div>\n",
              "  "
            ]
          },
          "metadata": {},
          "execution_count": 42
        }
      ]
    },
    {
      "cell_type": "code",
      "source": [
        "# Final TV shows genres datafrmae look like\n",
        "TV_genre_df"
      ],
      "metadata": {
        "colab": {
          "base_uri": "https://localhost:8080/",
          "height": 739
        },
        "id": "Ny0tVrOjTxLg",
        "outputId": "7cdfcb0d-4865-44b9-e205-4ec3550f87b7"
      },
      "execution_count": 43,
      "outputs": [
        {
          "output_type": "execute_result",
          "data": {
            "text/plain": [
              "                           genre  tv_count\n",
              "19                      TV Shows        12\n",
              "2              Classic & Cult TV        25\n",
              "20                  TV Thrillers        50\n",
              "12  Stand-Up Comedy & Talk Shows        52\n",
              "21                 Teen TV Shows        60\n",
              "16                     TV Horror        69\n",
              "18           TV Sci-Fi & Fantasy        75\n",
              "10           Science & Nature TV        85\n",
              "17                  TV Mysteries        90\n",
              "11     Spanish-Language TV Shows       146\n",
              "0                   Anime Series       147\n",
              "13         TV Action & Adventure       149\n",
              "7                Korean TV Shows       150\n",
              "8                     Reality TV       222\n",
              "1               British TV Shows       231\n",
              "9              Romantic TV Shows       333\n",
              "4                     Docuseries       352\n",
              "6                       Kids' TV       412\n",
              "3                 Crime TV Shows       426\n",
              "14                   TV Comedies       518\n",
              "15                     TV Dramas       703\n",
              "5         International TV Shows      1198"
            ],
            "text/html": [
              "\n",
              "  <div id=\"df-d670a1ae-eeb9-4624-826d-1c1d6c68b44c\">\n",
              "    <div class=\"colab-df-container\">\n",
              "      <div>\n",
              "<style scoped>\n",
              "    .dataframe tbody tr th:only-of-type {\n",
              "        vertical-align: middle;\n",
              "    }\n",
              "\n",
              "    .dataframe tbody tr th {\n",
              "        vertical-align: top;\n",
              "    }\n",
              "\n",
              "    .dataframe thead th {\n",
              "        text-align: right;\n",
              "    }\n",
              "</style>\n",
              "<table border=\"1\" class=\"dataframe\">\n",
              "  <thead>\n",
              "    <tr style=\"text-align: right;\">\n",
              "      <th></th>\n",
              "      <th>genre</th>\n",
              "      <th>tv_count</th>\n",
              "    </tr>\n",
              "  </thead>\n",
              "  <tbody>\n",
              "    <tr>\n",
              "      <th>19</th>\n",
              "      <td>TV Shows</td>\n",
              "      <td>12</td>\n",
              "    </tr>\n",
              "    <tr>\n",
              "      <th>2</th>\n",
              "      <td>Classic &amp; Cult TV</td>\n",
              "      <td>25</td>\n",
              "    </tr>\n",
              "    <tr>\n",
              "      <th>20</th>\n",
              "      <td>TV Thrillers</td>\n",
              "      <td>50</td>\n",
              "    </tr>\n",
              "    <tr>\n",
              "      <th>12</th>\n",
              "      <td>Stand-Up Comedy &amp; Talk Shows</td>\n",
              "      <td>52</td>\n",
              "    </tr>\n",
              "    <tr>\n",
              "      <th>21</th>\n",
              "      <td>Teen TV Shows</td>\n",
              "      <td>60</td>\n",
              "    </tr>\n",
              "    <tr>\n",
              "      <th>16</th>\n",
              "      <td>TV Horror</td>\n",
              "      <td>69</td>\n",
              "    </tr>\n",
              "    <tr>\n",
              "      <th>18</th>\n",
              "      <td>TV Sci-Fi &amp; Fantasy</td>\n",
              "      <td>75</td>\n",
              "    </tr>\n",
              "    <tr>\n",
              "      <th>10</th>\n",
              "      <td>Science &amp; Nature TV</td>\n",
              "      <td>85</td>\n",
              "    </tr>\n",
              "    <tr>\n",
              "      <th>17</th>\n",
              "      <td>TV Mysteries</td>\n",
              "      <td>90</td>\n",
              "    </tr>\n",
              "    <tr>\n",
              "      <th>11</th>\n",
              "      <td>Spanish-Language TV Shows</td>\n",
              "      <td>146</td>\n",
              "    </tr>\n",
              "    <tr>\n",
              "      <th>0</th>\n",
              "      <td>Anime Series</td>\n",
              "      <td>147</td>\n",
              "    </tr>\n",
              "    <tr>\n",
              "      <th>13</th>\n",
              "      <td>TV Action &amp; Adventure</td>\n",
              "      <td>149</td>\n",
              "    </tr>\n",
              "    <tr>\n",
              "      <th>7</th>\n",
              "      <td>Korean TV Shows</td>\n",
              "      <td>150</td>\n",
              "    </tr>\n",
              "    <tr>\n",
              "      <th>8</th>\n",
              "      <td>Reality TV</td>\n",
              "      <td>222</td>\n",
              "    </tr>\n",
              "    <tr>\n",
              "      <th>1</th>\n",
              "      <td>British TV Shows</td>\n",
              "      <td>231</td>\n",
              "    </tr>\n",
              "    <tr>\n",
              "      <th>9</th>\n",
              "      <td>Romantic TV Shows</td>\n",
              "      <td>333</td>\n",
              "    </tr>\n",
              "    <tr>\n",
              "      <th>4</th>\n",
              "      <td>Docuseries</td>\n",
              "      <td>352</td>\n",
              "    </tr>\n",
              "    <tr>\n",
              "      <th>6</th>\n",
              "      <td>Kids' TV</td>\n",
              "      <td>412</td>\n",
              "    </tr>\n",
              "    <tr>\n",
              "      <th>3</th>\n",
              "      <td>Crime TV Shows</td>\n",
              "      <td>426</td>\n",
              "    </tr>\n",
              "    <tr>\n",
              "      <th>14</th>\n",
              "      <td>TV Comedies</td>\n",
              "      <td>518</td>\n",
              "    </tr>\n",
              "    <tr>\n",
              "      <th>15</th>\n",
              "      <td>TV Dramas</td>\n",
              "      <td>703</td>\n",
              "    </tr>\n",
              "    <tr>\n",
              "      <th>5</th>\n",
              "      <td>International TV Shows</td>\n",
              "      <td>1198</td>\n",
              "    </tr>\n",
              "  </tbody>\n",
              "</table>\n",
              "</div>\n",
              "      <button class=\"colab-df-convert\" onclick=\"convertToInteractive('df-d670a1ae-eeb9-4624-826d-1c1d6c68b44c')\"\n",
              "              title=\"Convert this dataframe to an interactive table.\"\n",
              "              style=\"display:none;\">\n",
              "        \n",
              "  <svg xmlns=\"http://www.w3.org/2000/svg\" height=\"24px\"viewBox=\"0 0 24 24\"\n",
              "       width=\"24px\">\n",
              "    <path d=\"M0 0h24v24H0V0z\" fill=\"none\"/>\n",
              "    <path d=\"M18.56 5.44l.94 2.06.94-2.06 2.06-.94-2.06-.94-.94-2.06-.94 2.06-2.06.94zm-11 1L8.5 8.5l.94-2.06 2.06-.94-2.06-.94L8.5 2.5l-.94 2.06-2.06.94zm10 10l.94 2.06.94-2.06 2.06-.94-2.06-.94-.94-2.06-.94 2.06-2.06.94z\"/><path d=\"M17.41 7.96l-1.37-1.37c-.4-.4-.92-.59-1.43-.59-.52 0-1.04.2-1.43.59L10.3 9.45l-7.72 7.72c-.78.78-.78 2.05 0 2.83L4 21.41c.39.39.9.59 1.41.59.51 0 1.02-.2 1.41-.59l7.78-7.78 2.81-2.81c.8-.78.8-2.07 0-2.86zM5.41 20L4 18.59l7.72-7.72 1.47 1.35L5.41 20z\"/>\n",
              "  </svg>\n",
              "      </button>\n",
              "      \n",
              "  <style>\n",
              "    .colab-df-container {\n",
              "      display:flex;\n",
              "      flex-wrap:wrap;\n",
              "      gap: 12px;\n",
              "    }\n",
              "\n",
              "    .colab-df-convert {\n",
              "      background-color: #E8F0FE;\n",
              "      border: none;\n",
              "      border-radius: 50%;\n",
              "      cursor: pointer;\n",
              "      display: none;\n",
              "      fill: #1967D2;\n",
              "      height: 32px;\n",
              "      padding: 0 0 0 0;\n",
              "      width: 32px;\n",
              "    }\n",
              "\n",
              "    .colab-df-convert:hover {\n",
              "      background-color: #E2EBFA;\n",
              "      box-shadow: 0px 1px 2px rgba(60, 64, 67, 0.3), 0px 1px 3px 1px rgba(60, 64, 67, 0.15);\n",
              "      fill: #174EA6;\n",
              "    }\n",
              "\n",
              "    [theme=dark] .colab-df-convert {\n",
              "      background-color: #3B4455;\n",
              "      fill: #D2E3FC;\n",
              "    }\n",
              "\n",
              "    [theme=dark] .colab-df-convert:hover {\n",
              "      background-color: #434B5C;\n",
              "      box-shadow: 0px 1px 3px 1px rgba(0, 0, 0, 0.15);\n",
              "      filter: drop-shadow(0px 1px 2px rgba(0, 0, 0, 0.3));\n",
              "      fill: #FFFFFF;\n",
              "    }\n",
              "  </style>\n",
              "\n",
              "      <script>\n",
              "        const buttonEl =\n",
              "          document.querySelector('#df-d670a1ae-eeb9-4624-826d-1c1d6c68b44c button.colab-df-convert');\n",
              "        buttonEl.style.display =\n",
              "          google.colab.kernel.accessAllowed ? 'block' : 'none';\n",
              "\n",
              "        async function convertToInteractive(key) {\n",
              "          const element = document.querySelector('#df-d670a1ae-eeb9-4624-826d-1c1d6c68b44c');\n",
              "          const dataTable =\n",
              "            await google.colab.kernel.invokeFunction('convertToInteractive',\n",
              "                                                     [key], {});\n",
              "          if (!dataTable) return;\n",
              "\n",
              "          const docLinkHtml = 'Like what you see? Visit the ' +\n",
              "            '<a target=\"_blank\" href=https://colab.research.google.com/notebooks/data_table.ipynb>data table notebook</a>'\n",
              "            + ' to learn more about interactive tables.';\n",
              "          element.innerHTML = '';\n",
              "          dataTable['output_type'] = 'display_data';\n",
              "          await google.colab.output.renderOutput(dataTable, element);\n",
              "          const docLink = document.createElement('div');\n",
              "          docLink.innerHTML = docLinkHtml;\n",
              "          element.appendChild(docLink);\n",
              "        }\n",
              "      </script>\n",
              "    </div>\n",
              "  </div>\n",
              "  "
            ]
          },
          "metadata": {},
          "execution_count": 43
        }
      ]
    },
    {
      "cell_type": "markdown",
      "metadata": {
        "id": "QtYMlDmhFkAa"
      },
      "source": [
        "* Now do not have repetative rows in genres."
      ]
    },
    {
      "cell_type": "markdown",
      "metadata": {
        "id": "iXd5ieqEAsdo"
      },
      "source": [
        "### Top 5 Genres with Maximum Number of Movies"
      ]
    },
    {
      "cell_type": "code",
      "source": [
        "# bar plot showing top 5 genres in movies\n",
        "fig, ax = plt.subplots(figsize=(10,5),facecolor=\"#363336\")\n",
        "ax.patch.set_facecolor('#363336')\n",
        "ax.barh(y=movie_genre_df['genre'][-5:], width = movie_genre_df['movie_count'][-5:]/movie_genre_df['movie_count'].sum()*100, height=0.5, color = 'red',alpha=0.8)\n",
        "ax.tick_params(axis= 'x', colors='#F5E9F5',labelsize=15) \n",
        "ax.tick_params(axis='y', colors='#F5E9F5',labelsize=15)\n",
        "ax.set_xlabel(\"Percentage\", color='#F5E9F5', fontsize=20)\n",
        "ax.set_ylabel(\"Genres\", color='#F5E9F5', fontsize=20)\n",
        "ax.set_title(\"Top 5 Genres in Movies\", color='#F5E9F5', fontsize=30)\n",
        "ax.spines['right'].set_visible(False)\n",
        "ax.spines['top'].set_visible(False)\n",
        "ax.spines['left'].set_visible(True)"
      ],
      "metadata": {
        "colab": {
          "base_uri": "https://localhost:8080/",
          "height": 377
        },
        "id": "KKiaQh2VTy3I",
        "outputId": "b811d9ed-36e4-4790-e885-7b7aab5370bb"
      },
      "execution_count": 44,
      "outputs": [
        {
          "output_type": "display_data",
          "data": {
            "text/plain": [
              "<Figure size 720x360 with 1 Axes>"
            ],
            "image/png": "[encoded data removed]"
          },
          "metadata": {}
        }
      ]
    },
    {
      "cell_type": "code",
      "source": [
        "# bar plot showing top 5 genres in TV shows\n",
        "fig, ax = plt.subplots(figsize=(10,5),facecolor=\"#363336\")\n",
        "ax.patch.set_facecolor('#363336')\n",
        "ax.barh(y=TV_genre_df['genre'][-5:], width = TV_genre_df['tv_count'][-5:]/TV_genre_df['tv_count'].sum()*100,\n",
        "        height=0.5, color = 'red',alpha=0.8)\n",
        "ax.tick_params(axis= 'x', colors='#F5E9F5',labelsize=15) \n",
        "ax.tick_params(axis='y', colors='#F5E9F5',labelsize=15)\n",
        "ax.set_xlabel(\"Percentage\", color='#F5E9F5', fontsize=20)\n",
        "ax.set_ylabel(\"Genres\", color='#F5E9F5', fontsize=20)\n",
        "ax.set_title(\"Top 5 Genres in TV Shows\", color='#F5E9F5', fontsize=30)\n",
        "ax.spines['right'].set_visible(False)\n",
        "ax.spines['top'].set_visible(False)\n",
        "ax.spines['left'].set_visible(True)"
      ],
      "metadata": {
        "colab": {
          "base_uri": "https://localhost:8080/",
          "height": 377
        },
        "id": "PejLLkodUQJQ",
        "outputId": "e3dacecf-2efe-4436-eff0-576e6b306be1"
      },
      "execution_count": 45,
      "outputs": [
        {
          "output_type": "display_data",
          "data": {
            "text/plain": [
              "<Figure size 720x360 with 1 Axes>"
            ],
            "image/png": "[encoded data removed]"
          },
          "metadata": {}
        }
      ]
    },
    {
      "cell_type": "markdown",
      "metadata": {
        "id": "5hMhd8QIBkIl"
      },
      "source": [
        "* Top 3 genres are exactly same for movies and TV shows.\n",
        "* Dramas genres hit all over the world."
      ]
    },
    {
      "cell_type": "markdown",
      "metadata": {
        "id": "emzzp-lNADqF"
      },
      "source": [
        "* **Originals** : For which released year and added year is same."
      ]
    },
    {
      "cell_type": "markdown",
      "metadata": {
        "id": "5sB3URXs9euU"
      },
      "source": [
        "## Originally Uploaded on Netflix"
      ]
    },
    {
      "cell_type": "markdown",
      "metadata": {
        "id": "SNM4Hx4QAj_d"
      },
      "source": [
        "* Creating new feature as originals having values Yes and No."
      ]
    },
    {
      "cell_type": "code",
      "source": [
        "movies_df['originals'] = np.where(movies_df['release_year']==movies_df['year_added'], 'Yes', 'No')"
      ],
      "metadata": {
        "id": "nCTuuQeIUY8B"
      },
      "execution_count": 46,
      "outputs": []
    },
    {
      "cell_type": "code",
      "source": [
        "# pie plot showing percentage of originals and others in movies\n",
        "fig, ax = plt.subplots(figsize=(5,5),facecolor=\"#363336\")\n",
        "ax.patch.set_facecolor('#363336')\n",
        "explode = (0, 0.1)\n",
        "ax.pie(movies_df['originals'].value_counts(), explode=explode, autopct='%.2f%%', labels= ['Others', 'Originals'],\n",
        "       shadow=True, startangle=90,textprops={'color':\"black\", 'fontsize': 20}, colors =['red','#F5E9F5'])"
      ],
      "metadata": {
        "colab": {
          "base_uri": "https://localhost:8080/",
          "height": 407
        },
        "id": "1HVcwPMjVDtQ",
        "outputId": "6887e148-84c8-446a-e46d-3ee8aba9259d"
      },
      "execution_count": 47,
      "outputs": [
        {
          "output_type": "execute_result",
          "data": {
            "text/plain": [
              "([<matplotlib.patches.Wedge at 0x7f8b33530e20>,\n",
              "  <matplotlib.patches.Wedge at 0x7f8b33525580>],\n",
              " [Text(-0.8902585632950727, -0.6460957285726268, 'Others'),\n",
              "  Text(0.9711911599582614, 0.7048317038974103, 'Originals')],\n",
              " [Text(-0.4855955799791305, -0.3524158519487055, '69.98%'),\n",
              "  Text(0.5665281766423191, 0.41115182727348937, '30.02%')])"
            ]
          },
          "metadata": {},
          "execution_count": 47
        },
        {
          "output_type": "display_data",
          "data": {
            "text/plain": [
              "<Figure size 360x360 with 1 Axes>"
            ],
            "image/png": "[encoded data removed]"
          },
          "metadata": {}
        }
      ]
    },
    {
      "cell_type": "markdown",
      "metadata": {
        "id": "HZwnYsvpBv7d"
      },
      "source": [
        "* 30% movies released on Netflix.\n",
        "* 70% movies added on Netflix were released earlier by different mode. \n",
        "* May be after buying rights of old released movies and then adding all the movies on Netflix."
      ]
    },
    {
      "cell_type": "markdown",
      "metadata": {
        "id": "ce2xE_MU_r75"
      },
      "source": [
        "### Originals in TV Shows"
      ]
    },
    {
      "cell_type": "code",
      "source": [
        "tv_df['originals'] = np.where(tv_df['release_year']==tv_df['year_added'], 'Yes', 'No')"
      ],
      "metadata": {
        "id": "Fkmb59RUVFVg"
      },
      "execution_count": 48,
      "outputs": []
    },
    {
      "cell_type": "code",
      "source": [
        "# pie plot showing percentage of originals and others in movies\n",
        "fig, ax = plt.subplots(figsize=(5,5),facecolor=\"#363336\")\n",
        "ax.patch.set_facecolor('#363336')\n",
        "explode = (0, 0.1)\n",
        "ax.pie(tv_df['originals'].value_counts(), explode=explode, autopct='%.2f%%', labels= ['Others', 'Originals'],\n",
        "       shadow=True, startangle=90,textprops={'color':\"black\", 'fontsize': 20}, colors =['red','#F5E9F5'])"
      ],
      "metadata": {
        "colab": {
          "base_uri": "https://localhost:8080/",
          "height": 407
        },
        "id": "TDfA8PGpVRMZ",
        "outputId": "25c4ef14-7406-4a69-a1a1-514ca29ce948"
      },
      "execution_count": 49,
      "outputs": [
        {
          "output_type": "execute_result",
          "data": {
            "text/plain": [
              "([<matplotlib.patches.Wedge at 0x7f8b337f30d0>,\n",
              "  <matplotlib.patches.Wedge at 0x7f8b337f3f70>],\n",
              " [Text(-1.099885969077529, -0.015838403530207094, 'Others'),\n",
              "  Text(1.1998756010123188, 0.017278370737050828, 'Originals')],\n",
              " [Text(-0.5999378013150156, -0.008639129198294779, '50.46%'),\n",
              "  Text(0.6999274339238526, 0.010079049596612983, '49.54%')])"
            ]
          },
          "metadata": {},
          "execution_count": 49
        },
        {
          "output_type": "display_data",
          "data": {
            "text/plain": [
              "<Figure size 360x360 with 1 Axes>"
            ],
            "image/png": "[encoded data removed]"
          },
          "metadata": {}
        }
      ]
    },
    {
      "cell_type": "markdown",
      "metadata": {
        "id": "66RDH8MACrXy"
      },
      "source": [
        "* 50-50\n",
        "* 50% TV shows originaly from Netflix whereas remaining 50% were added after released on different mode."
      ]
    },
    {
      "cell_type": "markdown",
      "metadata": {
        "id": "sk5RqQeLGTea"
      },
      "source": [
        "# **Data Preprocessing**"
      ]
    },
    {
      "cell_type": "code",
      "source": [
        "df = df[['title','cast','country','listed_in','description']]"
      ],
      "metadata": {
        "id": "i7s9Mt4I3lFk"
      },
      "execution_count": 85,
      "outputs": []
    },
    {
      "cell_type": "code",
      "source": [
        "df.isnull().sum()"
      ],
      "metadata": {
        "colab": {
          "base_uri": "https://localhost:8080/"
        },
        "id": "KDHK9iYt3sfk",
        "outputId": "2346ad2c-78b0-4638-af6d-0c64bfbe078a"
      },
      "execution_count": 86,
      "outputs": [
        {
          "output_type": "execute_result",
          "data": {
            "text/plain": [
              "title            0\n",
              "cast           718\n",
              "country        507\n",
              "listed_in        0\n",
              "description      0\n",
              "dtype: int64"
            ]
          },
          "metadata": {},
          "execution_count": 86
        }
      ]
    },
    {
      "cell_type": "code",
      "source": [
        "df.fillna('No Cast',inplace=True)"
      ],
      "metadata": {
        "id": "_C4AvFq14aqL"
      },
      "execution_count": 87,
      "outputs": []
    },
    {
      "cell_type": "code",
      "source": [
        "df.fillna(\"Worldwide\",inplace=True)"
      ],
      "metadata": {
        "id": "Q2qwQs7g4cOE"
      },
      "execution_count": 88,
      "outputs": []
    },
    {
      "cell_type": "code",
      "source": [
        "df.drop_duplicates(inplace=True)"
      ],
      "metadata": {
        "id": "z7pI4Wan4ha8"
      },
      "execution_count": 89,
      "outputs": []
    },
    {
      "cell_type": "code",
      "source": [
        "df2 = df[['title','country','listed_in']]"
      ],
      "metadata": {
        "id": "u3bAITmc3xQ8"
      },
      "execution_count": 90,
      "outputs": []
    },
    {
      "cell_type": "code",
      "source": [
        "df2['country'] = df2['country'].apply(lambda x: x.replace(' ','').split(','))"
      ],
      "metadata": {
        "id": "cB5CvamB3zu7"
      },
      "execution_count": 91,
      "outputs": []
    },
    {
      "cell_type": "code",
      "source": [
        "df2['listed_in'] = df2['listed_in'].apply(lambda x: x.replace(' ','').split(','))"
      ],
      "metadata": {
        "id": "2DWsR0fL4ntV"
      },
      "execution_count": 92,
      "outputs": []
    },
    {
      "cell_type": "code",
      "source": [
        "df2['text'] = df2['country']+df2['listed_in']"
      ],
      "metadata": {
        "id": "qfFuYog74pnM"
      },
      "execution_count": 93,
      "outputs": []
    },
    {
      "cell_type": "code",
      "source": [
        "df2['text']= df2['text'].apply(lambda x: \" \".join(x))"
      ],
      "metadata": {
        "id": "wGLRTPjZ4sL0"
      },
      "execution_count": 94,
      "outputs": []
    },
    {
      "cell_type": "code",
      "source": [
        "import nltk\n",
        "nltk.download('stopwords')\n",
        "from nltk.stem import PorterStemmer\n",
        "from nltk.corpus import stopwords"
      ],
      "metadata": {
        "colab": {
          "base_uri": "https://localhost:8080/"
        },
        "id": "b1-022tH4wCN",
        "outputId": "514842af-6be4-417a-b3c7-b416e75f429a"
      },
      "execution_count": 95,
      "outputs": [
        {
          "output_type": "stream",
          "name": "stderr",
          "text": [
            "[nltk_data] Downloading package stopwords to /root/nltk_data...\n",
            "[nltk_data]   Package stopwords is already up-to-date!\n"
          ]
        }
      ]
    },
    {
      "cell_type": "code",
      "source": [
        "ps = PorterStemmer()\n",
        "corpus = []"
      ],
      "metadata": {
        "id": "9kk6rBmb4yHj"
      },
      "execution_count": 96,
      "outputs": []
    },
    {
      "cell_type": "code",
      "source": [
        "import re\n",
        "for i in range(len(df2)):\n",
        "  text = re.sub('[^a-zA-Z]',' ',df2['text'][i])\n",
        "  text = text.lower()\n",
        "  text = text.split()\n",
        "  text = [ps.stem(words) for words in text if words not in stopwords.words('english')]\n",
        "  text = \" \".join(text)\n",
        "  corpus.append(text)"
      ],
      "metadata": {
        "id": "grfVx6LK4zuT"
      },
      "execution_count": 97,
      "outputs": []
    },
    {
      "cell_type": "code",
      "source": [
        "corpus[:5]"
      ],
      "metadata": {
        "colab": {
          "base_uri": "https://localhost:8080/"
        },
        "id": "UCsy4Vgo43xr",
        "outputId": "682c42a2-5104-427d-e6b3-97d563a62b27"
      },
      "execution_count": 98,
      "outputs": [
        {
          "output_type": "execute_result",
          "data": {
            "text/plain": [
              "['brazil internationaltvshow tvdrama tvsci fi fantasi',\n",
              " 'mexico drama internationalmovi',\n",
              " 'singapor horrormovi internationalmovi',\n",
              " 'unitedst action adventur independentmovi sci fi fantasi',\n",
              " 'unitedst drama']"
            ]
          },
          "metadata": {},
          "execution_count": 98
        }
      ]
    },
    {
      "cell_type": "code",
      "source": [
        "from sklearn.feature_extraction.text import CountVectorizer,TfidfVectorizer\n",
        "cv = CountVectorizer()\n",
        "X = cv.fit_transform(corpus).toarray()"
      ],
      "metadata": {
        "id": "2Alz7HS_45kU"
      },
      "execution_count": 99,
      "outputs": []
    },
    {
      "cell_type": "code",
      "source": [
        "from sklearn.cluster import KMeans\n",
        "sse = []\n",
        "for i in range(1,30):\n",
        "  kmeans = KMeans(n_clusters=i,init=\"k-means++\",random_state=42)\n",
        "  kmeans.fit(X)\n",
        "  sse.append(kmeans.inertia_)\n",
        "sse"
      ],
      "metadata": {
        "colab": {
          "base_uri": "https://localhost:8080/"
        },
        "id": "_W7wdTda47I9",
        "outputId": "9e8b22e3-e91b-4092-f6ab-258e7da21796"
      },
      "execution_count": 100,
      "outputs": [
        {
          "output_type": "execute_result",
          "data": {
            "text/plain": [
              "[26441.20842429677,\n",
              " 23485.271266885833,\n",
              " 21543.966714865783,\n",
              " 20516.58882882745,\n",
              " 19718.263310675095,\n",
              " 18829.981919275695,\n",
              " 17695.898146087882,\n",
              " 17463.431652832784,\n",
              " 16630.829477912383,\n",
              " 15936.363553856745,\n",
              " 16229.02652848692,\n",
              " 15318.235190632564,\n",
              " 14824.74184234803,\n",
              " 14340.347741836942,\n",
              " 14002.152763032162,\n",
              " 14047.759663606948,\n",
              " 13555.766545386068,\n",
              " 13427.509919208438,\n",
              " 13102.293988353911,\n",
              " 12766.399878764933,\n",
              " 12897.34851994192,\n",
              " 12587.80563759449,\n",
              " 12356.3022494471,\n",
              " 12125.83899687053,\n",
              " 12048.118979034143,\n",
              " 11679.119784590144,\n",
              " 11642.399670128816,\n",
              " 11536.29095377256,\n",
              " 11354.742457550074]"
            ]
          },
          "metadata": {},
          "execution_count": 100
        }
      ]
    },
    {
      "cell_type": "code",
      "source": [
        "plt.plot(range(1,30),sse)\n",
        "plt.xlabel(\"Clusters\")\n",
        "plt.ylabel(\"Inertia\")\n",
        "plt.show()"
      ],
      "metadata": {
        "colab": {
          "base_uri": "https://localhost:8080/",
          "height": 279
        },
        "id": "LTbt0L0S4_ZE",
        "outputId": "435fd99e-8e7f-49cd-fc03-03c3f9bc3152"
      },
      "execution_count": 101,
      "outputs": [
        {
          "output_type": "display_data",
          "data": {
            "text/plain": [
              "<Figure size 432x288 with 1 Axes>"
            ],
            "image/png": "[encoded data removed]"
          },
          "metadata": {
            "needs_background": "light"
          }
        }
      ]
    },
    {
      "cell_type": "code",
      "source": [
        "kmeans = KMeans(n_clusters=7,init=\"k-means++\",random_state=42)\n",
        "df2['cluster']=kmeans.fit_predict(X)"
      ],
      "metadata": {
        "id": "rnA6Gwej5TWz"
      },
      "execution_count": 103,
      "outputs": []
    },
    {
      "cell_type": "code",
      "source": [
        "fig, ax = plt.subplots(figsize=(8,5),facecolor=\"#363336\")\n",
        "sns.countplot(df2['cluster'])"
      ],
      "metadata": {
        "colab": {
          "base_uri": "https://localhost:8080/",
          "height": 351
        },
        "id": "mykaIFLY5L-F",
        "outputId": "640bbc35-b12f-4cc9-82ad-b4767ce09127"
      },
      "execution_count": 123,
      "outputs": [
        {
          "output_type": "execute_result",
          "data": {
            "text/plain": [
              "<matplotlib.axes._subplots.AxesSubplot at 0x7f8b23e2fdf0>"
            ]
          },
          "metadata": {},
          "execution_count": 123
        },
        {
          "output_type": "display_data",
          "data": {
            "text/plain": [
              "<Figure size 576x360 with 1 Axes>"
            ],
            "image/png": "[encoded data removed]"
          },
          "metadata": {}
        }
      ]
    },
    {
      "cell_type": "code",
      "source": [
        "tf = TfidfVectorizer(max_features=5000)\n",
        "X = tf.fit_transform(corpus).toarray()"
      ],
      "metadata": {
        "id": "robloHgO5XlE"
      },
      "execution_count": 105,
      "outputs": []
    },
    {
      "cell_type": "code",
      "source": [
        "sse = []\n",
        "from sklearn.metrics import silhouette_score\n",
        "for i in range(2,30):\n",
        "  kmeans = KMeans(n_clusters=i,init=\"k-means++\",random_state=42)\n",
        "  pred = kmeans.fit_predict(X)\n",
        "  sse.append(kmeans.inertia_)\n",
        "  score  = silhouette_score(X, pred)\n",
        "  print(\"For n_clusters = {}, silhouette score is {}\".format(i, score))\n",
        "sse"
      ],
      "metadata": {
        "colab": {
          "base_uri": "https://localhost:8080/"
        },
        "id": "JPJRUSAZ5ZTb",
        "outputId": "8544e167-f4d4-43c5-ed3b-5d54ef2dd0e6"
      },
      "execution_count": 106,
      "outputs": [
        {
          "output_type": "stream",
          "name": "stdout",
          "text": [
            "For n_clusters = 2, silhouette score is 0.06151428146665058\n",
            "For n_clusters = 3, silhouette score is 0.0803039205387485\n",
            "For n_clusters = 4, silhouette score is 0.09088589346091212\n",
            "For n_clusters = 5, silhouette score is 0.1068249551777603\n",
            "For n_clusters = 6, silhouette score is 0.13210557075944318\n",
            "For n_clusters = 7, silhouette score is 0.16178530453155326\n",
            "For n_clusters = 8, silhouette score is 0.1530491351731535\n",
            "For n_clusters = 9, silhouette score is 0.16998407518442024\n",
            "For n_clusters = 10, silhouette score is 0.19275505111467647\n",
            "For n_clusters = 11, silhouette score is 0.1984323869285773\n",
            "For n_clusters = 12, silhouette score is 0.2009960878776247\n",
            "For n_clusters = 13, silhouette score is 0.20297750199856726\n",
            "For n_clusters = 14, silhouette score is 0.2098955859778548\n",
            "For n_clusters = 15, silhouette score is 0.21762141590772174\n",
            "For n_clusters = 16, silhouette score is 0.23308794945681233\n",
            "For n_clusters = 17, silhouette score is 0.2243617041739478\n",
            "For n_clusters = 18, silhouette score is 0.23412322317470127\n",
            "For n_clusters = 19, silhouette score is 0.23461845300467957\n",
            "For n_clusters = 20, silhouette score is 0.24197854396626253\n",
            "For n_clusters = 21, silhouette score is 0.23520039449739882\n",
            "For n_clusters = 22, silhouette score is 0.24938647643153122\n",
            "For n_clusters = 23, silhouette score is 0.2437641893732051\n",
            "For n_clusters = 24, silhouette score is 0.2452231595946266\n",
            "For n_clusters = 25, silhouette score is 0.25550932104474344\n",
            "For n_clusters = 26, silhouette score is 0.25159105915307484\n",
            "For n_clusters = 27, silhouette score is 0.2677153128570128\n",
            "For n_clusters = 28, silhouette score is 0.25778804894153395\n",
            "For n_clusters = 29, silhouette score is 0.26305962250933784\n"
          ]
        },
        {
          "output_type": "execute_result",
          "data": {
            "text/plain": [
              "[6686.982343858406,\n",
              " 6401.057356920928,\n",
              " 6121.7135545944875,\n",
              " 5898.057087417339,\n",
              " 5641.342588978661,\n",
              " 5330.002829785137,\n",
              " 5226.8650039608865,\n",
              " 4995.547389530628,\n",
              " 4799.618562841213,\n",
              " 4657.07545697173,\n",
              " 4498.4475693778295,\n",
              " 4445.245295091809,\n",
              " 4319.404500734223,\n",
              " 4177.627124817078,\n",
              " 4133.93474248965,\n",
              " 4048.7897265123784,\n",
              " 3892.872828733023,\n",
              " 3853.681894715831,\n",
              " 3778.8335576204418,\n",
              " 3772.8344860718053,\n",
              " 3700.855576194439,\n",
              " 3599.5913930445904,\n",
              " 3559.291064010288,\n",
              " 3524.021270400921,\n",
              " 3444.1175614075287,\n",
              " 3412.296015694134,\n",
              " 3360.93668730183,\n",
              " 3346.7802413555064]"
            ]
          },
          "metadata": {},
          "execution_count": 106
        }
      ]
    },
    {
      "cell_type": "code",
      "source": [
        "kmeans = KMeans(n_clusters=7,init=\"k-means++\",random_state=42)\n",
        "df2['cluster_tf']=kmeans.fit_predict(X)"
      ],
      "metadata": {
        "id": "Dpzg64Kb5dF8"
      },
      "execution_count": 107,
      "outputs": []
    },
    {
      "cell_type": "code",
      "source": [
        "fig, ax = plt.subplots(figsize=(8,5),facecolor=\"#363336\")\n",
        "sns.countplot(df2['cluster_tf'])\n",
        "ax.tick_params(axis='x', colors='#F5E9F5',labelsize=15) \n",
        "ax.tick_params(axis='y', colors='#F5E9F5',labelsize=15)\n",
        "ax.set_xlabel(\"Clusters\", color='#F5E9F5', fontsize=20)\n",
        "ax.set_ylabel(\"Counts\",  color='white', fontsize=20)"
      ],
      "metadata": {
        "colab": {
          "base_uri": "https://localhost:8080/",
          "height": 365
        },
        "id": "yAp6yJjw5ftF",
        "outputId": "e5e2ba09-0dd2-4d8c-cf22-6d3cca78d40f"
      },
      "execution_count": 122,
      "outputs": [
        {
          "output_type": "execute_result",
          "data": {
            "text/plain": [
              "Text(0, 0.5, 'Counts')"
            ]
          },
          "metadata": {},
          "execution_count": 122
        },
        {
          "output_type": "display_data",
          "data": {
            "text/plain": [
              "<Figure size 576x360 with 1 Axes>"
            ],
            "image/png": "[encoded data removed]"
          },
          "metadata": {}
        }
      ]
    },
    {
      "cell_type": "code",
      "source": [
        "from sklearn.metrics.pairwise import cosine_similarity\n",
        "similarity = cosine_similarity(X)\n",
        "similarity"
      ],
      "metadata": {
        "colab": {
          "base_uri": "https://localhost:8080/"
        },
        "id": "q_0Hwzyw5ipe",
        "outputId": "cae18af0-439d-4497-d1cb-644b970ae458"
      },
      "execution_count": 109,
      "outputs": [
        {
          "output_type": "execute_result",
          "data": {
            "text/plain": [
              "array([[1.        , 0.        , 0.        , ..., 0.        , 0.10347033,\n",
              "        0.        ],\n",
              "       [0.        , 1.        , 0.10169064, ..., 0.08011597, 0.        ,\n",
              "        0.        ],\n",
              "       [0.        , 0.10169064, 1.        , ..., 0.05959237, 0.        ,\n",
              "        0.        ],\n",
              "       ...,\n",
              "       [0.        , 0.08011597, 0.05959237, ..., 1.        , 0.        ,\n",
              "        0.76903936],\n",
              "       [0.10347033, 0.        , 0.        , ..., 0.        , 1.        ,\n",
              "        0.        ],\n",
              "       [0.        , 0.        , 0.        , ..., 0.76903936, 0.        ,\n",
              "        1.        ]])"
            ]
          },
          "metadata": {},
          "execution_count": 109
        }
      ]
    },
    {
      "cell_type": "markdown",
      "source": [
        "# **Recommender System**"
      ],
      "metadata": {
        "id": "gVmuxkZM6puk"
      }
    },
    {
      "cell_type": "code",
      "source": [
        "def recommend(movie):\n",
        "     # first fetch the index of given movie\n",
        "    index = df2[df2['title'] == movie].index[0]\n",
        "    # then list down the closest movies index\n",
        "    distances = sorted(list(enumerate(similarity[index])),reverse=True,key = lambda x: x[1])\n",
        "    # selecting top 10 movies except first one; first one will be same movie as given on\n",
        "    for i in distances[1:11]:\n",
        "        print(df2.iloc[i[0]].title)"
      ],
      "metadata": {
        "id": "wH2etM6Y5kus"
      },
      "execution_count": 110,
      "outputs": []
    },
    {
      "cell_type": "code",
      "source": [
        "recommend(\"50 First Dates\")"
      ],
      "metadata": {
        "colab": {
          "base_uri": "https://localhost:8080/"
        },
        "id": "w_dfzQp25wZO",
        "outputId": "a9e1d8aa-a0af-4196-94ce-77ca4bf15865"
      },
      "execution_count": 111,
      "outputs": [
        {
          "output_type": "stream",
          "name": "stdout",
          "text": [
            "A California Christmas\n",
            "A Thin Line Between Love & Hate\n",
            "Always a Bridesmaid\n",
            "Arthur\n",
            "As Good as It Gets\n",
            "Big Stone Gap\n",
            "Boy Bye\n",
            "Can't Hardly Wait\n",
            "Desperados\n",
            "Easy A\n"
          ]
        }
      ]
    },
    {
      "cell_type": "code",
      "source": [
        "recommend('Sacred Games')"
      ],
      "metadata": {
        "colab": {
          "base_uri": "https://localhost:8080/"
        },
        "id": "JavsrTMF5ylM",
        "outputId": "ed1dcdac-b04f-407a-9c78-cb4043249d0a"
      },
      "execution_count": 115,
      "outputs": [
        {
          "output_type": "stream",
          "name": "stdout",
          "text": [
            "Delhi Crime\n",
            "Jamtara - Sabka Number Ayega\n",
            "Khotey Sikkey\n",
            "Powder\n",
            "She\n",
            "American Crime\n",
            "American Crime Story: The People v. O.J. Simpson\n",
            "Aquarius\n",
            "Damnation\n",
            "Hap and Leonard\n"
          ]
        }
      ]
    },
    {
      "cell_type": "markdown",
      "source": [
        "# **Conclusions**"
      ],
      "metadata": {
        "id": "fXuRMD_kM4TE"
      }
    },
    {
      "cell_type": "markdown",
      "source": [
        "* Movies uploaded on Netflix are more than twice the TV Shows uploaded.\n",
        "* TV shows and movies are incresing continuosly but in 2019 there is drop in number of movies.\n",
        "* From Octomber to January, maximum number of movies and TV shows were added.\n",
        "* Maximum number of movies and TV shows were either on start of the month or mid of the month.\n",
        "* United State tops in the list of maximum number of movies and TV shows followed by India, UK and Japan.\n",
        "* Maximum of the movies as well as TV shows are for matures only.\n",
        "* Anupam Kher top from the list of casts having maximum number of movies and TV shows.\n",
        "* Majority of movies have running time of between 50 to 150 min.\n",
        "* Almost 68% of TV shows consist of single season only.\n",
        "* Top 3 genres are exactly same for movies and TV shows.\n",
        "* Dramas genres hit all over the world.\n",
        "* 30% movies and 50% TV shows are Netflix Originals.\n",
        "* Clustering done by K-Means Clustering, found optimal number of clusters equal to 7 with highest Silhoeutte Score.\n",
        "* Recommender system using cosine similarirty performs well on data."
      ],
      "metadata": {
        "id": "10ZekoN9M8HW"
      }
    }
  ]
}